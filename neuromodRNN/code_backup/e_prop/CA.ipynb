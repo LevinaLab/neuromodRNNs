{
 "cells": [
  {
   "cell_type": "code",
   "execution_count": 1,
   "metadata": {},
   "outputs": [],
   "source": [
    "from jax import lax, numpy as jnp\n",
    "from jax import vmap\n",
    "import numpy as np\n",
    "import tasks\n",
    "import plots"
   ]
  },
  {
   "cell_type": "code",
   "execution_count": 2,
   "metadata": {},
   "outputs": [
    {
     "name": "stdout",
     "output_type": "stream",
     "text": [
      "[[9. 7. 8. 9. 7.]\n",
      " [3. 1. 2. 3. 1.]\n",
      " [6. 4. 5. 6. 4.]\n",
      " [9. 7. 8. 9. 7.]\n",
      " [3. 1. 2. 3. 1.]]\n"
     ]
    }
   ],
   "source": [
    "from jax import numpy as jnp\n",
    "\n",
    "# Original tensor\n",
    "x = jnp.array([\n",
    "    [1, 2, 3],\n",
    "    [4, 5, 6],\n",
    "    [7, 8, 9]\n",
    "], dtype=jnp.float32)\n",
    "\n",
    "# Define the padding size\n",
    "Rk = 1\n",
    "\n",
    "# Perform circular padding\n",
    "x_pad = jnp.pad(x, pad_width=((Rk, Rk), (Rk, Rk)), mode='wrap')\n",
    "\n",
    "print(x_pad)"
   ]
  },
  {
   "cell_type": "code",
   "execution_count": 3,
   "metadata": {},
   "outputs": [],
   "source": [
    "radius = 2\n",
    "# kernel shape OIHW\n",
    "k = jnp.ones((3,1,2*radius+1,2*radius+1)) # 3 output channels, 1 input channel, height 3, width 3\n",
    "k = k / (jnp.sum(k, axis=(2,3))[:,:,None,None])\n",
    "k = k * jnp.array([0.99,0.985, 0.985])[:, None, None, None]\n",
    "# image shape NIHW\n",
    "\n",
    "# start with zeros\n",
    "initial_error_grid = jnp.zeros((1, 3,50,50)) # 1 batch, 3 channels, 50 pixels height and width\n"
   ]
  },
  {
   "cell_type": "code",
   "execution_count": 4,
   "metadata": {},
   "outputs": [],
   "source": [
    "def circular_pad_channel(channel, radius):\n",
    "    return jnp.pad(channel, pad_width=((radius, radius), (radius, radius)), mode='wrap')\n",
    "\n",
    "vmap_circular_pad = vmap(vmap(circular_pad_channel, in_axes=(0,None)), in_axes=(0,None)) # ugly, but I want to pad each channel in each batch independently. vmpa only maps to one dimension, so need to nest it to apply for channels and batches"
   ]
  },
  {
   "cell_type": "code",
   "execution_count": 5,
   "metadata": {},
   "outputs": [
    {
     "data": {
      "text/plain": [
       "(3, 1, 5, 5)"
      ]
     },
     "execution_count": 5,
     "metadata": {},
     "output_type": "execute_result"
    }
   ],
   "source": [
    "k.shape"
   ]
  },
  {
   "cell_type": "code",
   "execution_count": 6,
   "metadata": {},
   "outputs": [],
   "source": [
    "def CA(carry, inputs, params):\n",
    "    radius, kernel = params\n",
    "    error_signals = inputs # basically the new error signals coming\n",
    "    error_grid = carry # the previous grid of diffused errors\n",
    "    error_grid_pad = vmap_circular_pad(error_grid, radius)\n",
    "    new_error_grid = lax.conv_general_dilated(lhs = error_grid_pad,\n",
    "                                         rhs = kernel,\n",
    "                                         window_strides=(1,1),\n",
    "                                         padding='VALID', # valid means without padding, have alredy added the necessary circular padding\n",
    "                                         dimension_numbers=('NCHW', 'OIHW', 'NCHW'), # dimensions of image, kernel, output\n",
    "                                         feature_group_count=3\n",
    "    )\n",
    "    new_error_grid += error_signals\n",
    "\n",
    "    return new_error_grid, new_error_grid"
   ]
  },
  {
   "cell_type": "code",
   "execution_count": 7,
   "metadata": {},
   "outputs": [],
   "source": [
    "# Create an array of zeros with shape (1, 3, 50, 50)\n",
    "error_signal = jnp.zeros((1, 3, 50, 50), dtype=jnp.float32)\n",
    "\n",
    "# Set the entries at position [:, :, 25, 25] to 255\n",
    "error_signal = error_signal.at[:, :, 25, 25].set(255)\n"
   ]
  },
  {
   "cell_type": "code",
   "execution_count": 8,
   "metadata": {},
   "outputs": [
    {
     "data": {
      "text/plain": [
       "(1, 3, 50, 50)"
      ]
     },
     "execution_count": 8,
     "metadata": {},
     "output_type": "execute_result"
    }
   ],
   "source": [
    "#Test\n",
    "new_error_grid, new_error_grid = CA(initial_error_grid, error_signal, (radius,k))\n",
    "new_error_grid.shape"
   ]
  },
  {
   "cell_type": "code",
   "execution_count": 9,
   "metadata": {},
   "outputs": [
    {
     "data": {
      "text/plain": [
       "(4, 1, 3, 50, 50)"
      ]
     },
     "execution_count": 9,
     "metadata": {},
     "output_type": "execute_result"
    }
   ],
   "source": [
    "# test for 3 time steps (the first one, 0, creates the initial state)\n",
    "params=(radius,k)\n",
    "error_signal = jnp.zeros((4,1, 3, 50, 50), dtype=jnp.float32)\n",
    "\n",
    "# Set the entries at position [:, :, 25, 25] to 255\n",
    "error_signal = error_signal.at[0,:, :, 25, 25].set(255)\n",
    "_, error_grid = lax.scan(\n",
    "    lambda carry, input: CA(carry, input, params),\n",
    "    initial_error_grid,\n",
    "    error_signal\n",
    ")\n",
    "error_grid.shape"
   ]
  },
  {
   "cell_type": "code",
   "execution_count": 10,
   "metadata": {},
   "outputs": [
    {
     "name": "stderr",
     "output_type": "stream",
     "text": [
      "Clipping input data to the valid range for imshow with RGB data ([0..1] for floats or [0..255] for integers).\n"
     ]
    },
    {
     "data": {
      "text/plain": [
       "<matplotlib.image.AxesImage at 0x17f3def4230>"
      ]
     },
     "execution_count": 10,
     "metadata": {},
     "output_type": "execute_result"
    },
    {
     "data": {
      "image/png": "[encoded data removed]",
      "text/plain": [
       "<Figure size 640x480 with 1 Axes>"
      ]
     },
     "metadata": {},
     "output_type": "display_data"
    }
   ],
   "source": [
    "import matplotlib.pyplot as plt\n",
    "plt.imshow(jnp.transpose(error_grid[3,0], (1,2,0)))"
   ]
  },
  {
   "cell_type": "code",
   "execution_count": 11,
   "metadata": {},
   "outputs": [
    {
     "name": "stdout",
     "output_type": "stream",
     "text": [
      "(1, 3, 50, 50)\n"
     ]
    }
   ],
   "source": [
    "print(initial_error_grid.shape)"
   ]
  },
  {
   "cell_type": "code",
   "execution_count": 12,
   "metadata": {},
   "outputs": [
    {
     "name": "stdout",
     "output_type": "stream",
     "text": [
      "Grid positions:\n",
      " [[0.  0. ]\n",
      " [0.2 0. ]\n",
      " [0.4 0. ]\n",
      " [0.6 0. ]\n",
      " [0.8 0. ]\n",
      " [0.  0.2]\n",
      " [0.2 0.2]\n",
      " [0.4 0.2]\n",
      " [0.6 0.2]\n",
      " [0.8 0.2]\n",
      " [0.  0.4]\n",
      " [0.2 0.4]\n",
      " [0.4 0.4]\n",
      " [0.6 0.4]\n",
      " [0.8 0.4]\n",
      " [0.  0.6]\n",
      " [0.2 0.6]\n",
      " [0.4 0.6]\n",
      " [0.6 0.6]\n",
      " [0.8 0.6]\n",
      " [0.  0.8]\n",
      " [0.2 0.8]\n",
      " [0.4 0.8]\n",
      " [0.6 0.8]\n",
      " [0.8 0.8]]\n",
      "Selected cell positions:\n",
      " [[0.  0.4]\n",
      " [0.8 0.4]\n",
      " [0.4 0.8]\n",
      " [0.2 0.8]\n",
      " [0.6 0.2]\n",
      " [0.2 0.4]\n",
      " [0.  0.2]\n",
      " [0.8 0.8]\n",
      " [0.  0.8]\n",
      " [0.4 0.4]]\n"
     ]
    }
   ],
   "source": [
    "\n",
    "import jax\n",
    "import jax.numpy as jnp\n",
    "import numpy as np\n",
    "\n",
    "def twod_grid_jax(gridsize, n_cells):\n",
    "    s = gridsize\n",
    "    total_cells = s * s\n",
    "    if n_cells > total_cells:\n",
    "        raise ValueError(\"n_cells cannot be greater than the total number of cells in the grid.\")\n",
    "    \n",
    "    x = jnp.tile(jnp.arange(s), s) / s\n",
    "    y = jnp.repeat(jnp.arange(s), s) / s\n",
    "    \n",
    "    grid_positions = jnp.column_stack((x, y))\n",
    "    \n",
    "    key = jax.random.PRNGKey(0)\n",
    "    selected_indices = jax.random.choice(key, total_cells, shape=(n_cells,), replace=False)\n",
    "    selected_positions = grid_positions[selected_indices]\n",
    "    \n",
    "    return grid_positions, selected_positions\n",
    "\n",
    "# Example usage\n",
    "gridsize = 5\n",
    "n_cells = 10\n",
    "grid, selected_cells = twod_grid_jax(gridsize, n_cells)\n",
    "print(\"Grid positions:\\n\", grid)\n",
    "print(\"Selected cell positions:\\n\", selected_cells)"
   ]
  },
  {
   "cell_type": "code",
   "execution_count": 13,
   "metadata": {},
   "outputs": [
    {
     "data": {
      "text/plain": [
       "Array([[0. , 0.4],\n",
       "       [0.8, 0.4],\n",
       "       [0.4, 0.8],\n",
       "       [0.2, 0.8],\n",
       "       [0.6, 0.2],\n",
       "       [0.2, 0.4],\n",
       "       [0. , 0.2],\n",
       "       [0.8, 0.8],\n",
       "       [0. , 0.8],\n",
       "       [0.4, 0.4]], dtype=float32)"
      ]
     },
     "execution_count": 13,
     "metadata": {},
     "output_type": "execute_result"
    }
   ],
   "source": [
    "selected_cells"
   ]
  },
  {
   "cell_type": "code",
   "execution_count": 14,
   "metadata": {},
   "outputs": [
    {
     "name": "stdout",
     "output_type": "stream",
     "text": [
      "Initial Grid:\n",
      " [[0. 0. 0. 0. 0.]\n",
      " [0. 0. 0. 0. 0.]\n",
      " [0. 0. 0. 0. 0.]\n",
      " [0. 0. 0. 0. 0.]\n",
      " [0. 0. 0. 0. 0.]]\n",
      "Updated Grid:\n",
      " [[ 0. 10.  0.  0.  0.]\n",
      " [ 0.  0.  0.  0. 40.]\n",
      " [ 0.  0.  0. 20.  0.]\n",
      " [ 0.  0.  0.  0.  0.]\n",
      " [30.  0.  0.  0.  0.]]\n"
     ]
    }
   ],
   "source": [
    "import jax\n",
    "import jax.numpy as jnp\n",
    "\n",
    "# Step 1: Initialize the (n, n) grid array with zeros\n",
    "n = 5  # example grid size\n",
    "grid = jnp.zeros((n, n))\n",
    "\n",
    "# Step 2: Define the input array and the list of index tuples\n",
    "input_array = jnp.array([10, 20, 30, 40])  # example input array\n",
    "indices = [(0, 1), (2, 3), (4, 0), (1, 4)]  # example list of tuples\n",
    "\n",
    "# Step 3: Convert the list of tuples into two separate lists for row and column indices\n",
    "rows, cols = zip(*indices)\n",
    "\n",
    "# Step 4: Use jax.ops.index_update to modify the grid array\n",
    "updated_grid = grid.at[rows, cols].set(input_array)\n",
    "\n",
    "# Printing the results\n",
    "print(\"Initial Grid:\\n\", grid)\n",
    "print(\"Updated Grid:\\n\", updated_grid)"
   ]
  },
  {
   "cell_type": "code",
   "execution_count": 15,
   "metadata": {},
   "outputs": [
    {
     "name": "stdout",
     "output_type": "stream",
     "text": [
      "Initial Grid:\n",
      " [[0. 0. 0. 0. 0.]\n",
      " [0. 0. 0. 0. 0.]\n",
      " [0. 0. 0. 0. 0.]\n",
      " [0. 0. 0. 0. 0.]\n",
      " [0. 0. 0. 0. 0.]]\n",
      "Updated Grid:\n",
      " [[ 0. 10.  0.  0.  0.]\n",
      " [ 0.  0.  0.  0. 40.]\n",
      " [ 0.  0.  0. 20.  0.]\n",
      " [ 0.  0.  0.  0.  0.]\n",
      " [30.  0.  0.  0.  0.]]\n"
     ]
    }
   ],
   "source": [
    "import jax\n",
    "import jax.numpy as jnp\n",
    "\n",
    "# Step 1: Initialize the (n, n) grid array with zeros\n",
    "n = 5  # example grid size\n",
    "grid = jnp.zeros((n, n))\n",
    "\n",
    "# Step 2: Define the input array and the list of index tuples\n",
    "input_array = jnp.array([10, 20, 30, 40])  # example input array\n",
    "indices = [(0, 1), (2, 3), (4, 0), (1, 4)]  # example list of tuples\n",
    "\n",
    "# Step 3: Convert the list of tuples into two separate lists for row and column indices\n",
    "rows, cols = zip(*indices)\n",
    "\n",
    "# Step 4: Use jax.ops.index_add to add the input array values to the grid array at specified indices\n",
    "updated_grid = grid.at[rows, cols].add(input_array)\n",
    "\n",
    "# Printing the results\n",
    "print(\"Initial Grid:\\n\", grid)\n",
    "print(\"Updated Grid:\\n\", updated_grid)"
   ]
  },
  {
   "cell_type": "code",
   "execution_count": 16,
   "metadata": {},
   "outputs": [],
   "source": [
    "updated_grid = updated_grid.at[rows, cols].add(input_array)"
   ]
  },
  {
   "cell_type": "code",
   "execution_count": 26,
   "metadata": {},
   "outputs": [
    {
     "name": "stdout",
     "output_type": "stream",
     "text": [
      "(4, 2)\n",
      "Initial Grid:\n",
      " [[[[0. 0. 0. 0. 0.]\n",
      "   [0. 0. 0. 0. 0.]\n",
      "   [0. 0. 0. 0. 0.]\n",
      "   [0. 0. 0. 0. 0.]\n",
      "   [0. 0. 0. 0. 0.]]]\n",
      "\n",
      "\n",
      " [[[0. 0. 0. 0. 0.]\n",
      "   [0. 0. 0. 0. 0.]\n",
      "   [0. 0. 0. 0. 0.]\n",
      "   [0. 0. 0. 0. 0.]\n",
      "   [0. 0. 0. 0. 0.]]]\n",
      "\n",
      "\n",
      " [[[0. 0. 0. 0. 0.]\n",
      "   [0. 0. 0. 0. 0.]\n",
      "   [0. 0. 0. 0. 0.]\n",
      "   [0. 0. 0. 0. 0.]\n",
      "   [0. 0. 0. 0. 0.]]]]\n",
      "Grids over Time:\n",
      " [[[[[ 0. 10.  0.  0.  0.]\n",
      "    [ 0.  0.  0.  0. 40.]\n",
      "    [ 0.  0.  0. 20.  0.]\n",
      "    [ 0.  0.  0.  0.  0.]\n",
      "    [30.  0.  0.  0.  0.]]]\n",
      "\n",
      "\n",
      "  [[[ 0. 10.  0.  0.  0.]\n",
      "    [ 0.  0.  0.  0. 40.]\n",
      "    [ 0.  0.  0. 20.  0.]\n",
      "    [ 0.  0.  0.  0.  0.]\n",
      "    [30.  0.  0.  0.  0.]]]\n",
      "\n",
      "\n",
      "  [[[ 0. 10.  0.  0.  0.]\n",
      "    [ 0.  0.  0.  0. 40.]\n",
      "    [ 0.  0.  0. 20.  0.]\n",
      "    [ 0.  0.  0.  0.  0.]\n",
      "    [30.  0.  0.  0.  0.]]]]\n",
      "\n",
      "\n",
      "\n",
      " [[[[ 0. 15.  0.  0.  0.]\n",
      "    [ 0.  0.  0.  0. 75.]\n",
      "    [ 0.  0.  0. 35.  0.]\n",
      "    [ 0.  0.  0.  0.  0.]\n",
      "    [55.  0.  0.  0.  0.]]]\n",
      "\n",
      "\n",
      "  [[[ 0. 15.  0.  0.  0.]\n",
      "    [ 0.  0.  0.  0. 75.]\n",
      "    [ 0.  0.  0. 35.  0.]\n",
      "    [ 0.  0.  0.  0.  0.]\n",
      "    [55.  0.  0.  0.  0.]]]\n",
      "\n",
      "\n",
      "  [[[ 0. 15.  0.  0.  0.]\n",
      "    [ 0.  0.  0.  0. 75.]\n",
      "    [ 0.  0.  0. 35.  0.]\n",
      "    [ 0.  0.  0.  0.  0.]\n",
      "    [55.  0.  0.  0.  0.]]]]\n",
      "\n",
      "\n",
      "\n",
      " [[[[ 0. 16.  0.  0.  0.]\n",
      "    [ 0.  0.  0.  0. 79.]\n",
      "    [ 0.  0.  0. 37.  0.]\n",
      "    [ 0.  0.  0.  0.  0.]\n",
      "    [58.  0.  0.  0.  0.]]]\n",
      "\n",
      "\n",
      "  [[[ 0. 16.  0.  0.  0.]\n",
      "    [ 0.  0.  0.  0. 79.]\n",
      "    [ 0.  0.  0. 37.  0.]\n",
      "    [ 0.  0.  0.  0.  0.]\n",
      "    [58.  0.  0.  0.  0.]]]\n",
      "\n",
      "\n",
      "  [[[ 0. 16.  0.  0.  0.]\n",
      "    [ 0.  0.  0.  0. 79.]\n",
      "    [ 0.  0.  0. 37.  0.]\n",
      "    [ 0.  0.  0.  0.  0.]\n",
      "    [58.  0.  0.  0.  0.]]]]]\n",
      "Final Grid after all time steps:\n",
      " [[[[ 0. 16.  0.  0.  0.]\n",
      "   [ 0.  0.  0.  0. 79.]\n",
      "   [ 0.  0.  0. 37.  0.]\n",
      "   [ 0.  0.  0.  0.  0.]\n",
      "   [58.  0.  0.  0.  0.]]]\n",
      "\n",
      "\n",
      " [[[ 0. 16.  0.  0.  0.]\n",
      "   [ 0.  0.  0.  0. 79.]\n",
      "   [ 0.  0.  0. 37.  0.]\n",
      "   [ 0.  0.  0.  0.  0.]\n",
      "   [58.  0.  0.  0.  0.]]]\n",
      "\n",
      "\n",
      " [[[ 0. 16.  0.  0.  0.]\n",
      "   [ 0.  0.  0.  0. 79.]\n",
      "   [ 0.  0.  0. 37.  0.]\n",
      "   [ 0.  0.  0.  0.  0.]\n",
      "   [58.  0.  0.  0.  0.]]]]\n"
     ]
    }
   ],
   "source": [
    "import jax\n",
    "import jax.numpy as jnp\n",
    "from jax import lax\n",
    "\n",
    "# Step 1: Initialize the (3, 1, 5, 5) grid array with zeros\n",
    "grid = jnp.zeros((3, 1, 5, 5))\n",
    "\n",
    "# Step 2: Define the input array with a time dimension (t, m)\n",
    "input_array = jnp.array([\n",
    "    [10, 20, 30, 40],  # t = 0\n",
    "    [5, 15, 25, 35],   # t = 1\n",
    "    [1, 2, 3, 4]       # t = 2\n",
    "])  # example input array with time dimension\n",
    "\n",
    "# Step 3: Define the list of index tuples\n",
    "indices = jnp.array([(0, 1), (2, 3), (4, 0), (1, 4)])  # example list of tuples\n",
    "print(indices.shape)\n",
    "# Convert the list of tuples into two separate lists for row and column indices\n",
    "rows, cols = zip(*indices)\n",
    "\n",
    "# Step 4: Define a function to update the grid at each time step\n",
    "def update_grid(grid, input_t):\n",
    "    # Use broadcasting along the first dimension\n",
    "    updated_grid = grid.at[:, 0, rows, cols].add(input_t)\n",
    "    return updated_grid, updated_grid\n",
    "\n",
    "# Step 5: Use jax.lax.scan to apply the update function over the time dimension\n",
    "initial_state = grid\n",
    "time_dimension = input_array.shape[0]\n",
    "\n",
    "# lax.scan takes the function, initial state, and the sequence to iterate over (input_array in this case)\n",
    "final_grid, grids_over_time = lax.scan(update_grid, initial_state, input_array)\n",
    "\n",
    "# Printing the results\n",
    "print(\"Initial Grid:\\n\", grid)\n",
    "print(\"Grids over Time:\\n\", grids_over_time)\n",
    "print(\"Final Grid after all time steps:\\n\", final_grid)\n",
    "\n"
   ]
  },
  {
   "cell_type": "code",
   "execution_count": 21,
   "metadata": {},
   "outputs": [],
   "source": [
    "error_signal = final_grid[:, 0, rows, cols]"
   ]
  },
  {
   "cell_type": "code",
   "execution_count": 25,
   "metadata": {},
   "outputs": [
    {
     "data": {
      "text/plain": [
       "Array([[16., 37., 58., 79.],\n",
       "       [16., 37., 58., 79.],\n",
       "       [16., 37., 58., 79.]], dtype=float32)"
      ]
     },
     "execution_count": 25,
     "metadata": {},
     "output_type": "execute_result"
    }
   ],
   "source": [
    "error_signal"
   ]
  },
  {
   "cell_type": "code",
   "execution_count": 37,
   "metadata": {},
   "outputs": [
    {
     "name": "stdout",
     "output_type": "stream",
     "text": [
      "(3, 5, 3)\n",
      "(3, 2)\n",
      "Initial Grid:\n",
      " [[[[0. 0.]\n",
      "   [0. 0.]]]\n",
      "\n",
      "\n",
      " [[[0. 0.]\n",
      "   [0. 0.]]]\n",
      "\n",
      "\n",
      " [[[0. 0.]\n",
      "   [0. 0.]]]\n",
      "\n",
      "\n",
      " [[[0. 0.]\n",
      "   [0. 0.]]]\n",
      "\n",
      "\n",
      " [[[0. 0.]\n",
      "   [0. 0.]]]]\n",
      "Grids over Time:\n",
      " [[[[[20. 10.]\n",
      "    [30.  0.]]]\n",
      "\n",
      "\n",
      "  [[[20. 10.]\n",
      "    [30.  0.]]]\n",
      "\n",
      "\n",
      "  [[[20. 10.]\n",
      "    [30.  0.]]]\n",
      "\n",
      "\n",
      "  [[[20. 10.]\n",
      "    [30.  0.]]]\n",
      "\n",
      "\n",
      "  [[[20. 10.]\n",
      "    [30.  0.]]]]\n",
      "\n",
      "\n",
      "\n",
      " [[[[35. 15.]\n",
      "    [55.  0.]]]\n",
      "\n",
      "\n",
      "  [[[35. 15.]\n",
      "    [55.  0.]]]\n",
      "\n",
      "\n",
      "  [[[40. 20.]\n",
      "    [60.  0.]]]\n",
      "\n",
      "\n",
      "  [[[40. 20.]\n",
      "    [60.  0.]]]\n",
      "\n",
      "\n",
      "  [[[40. 20.]\n",
      "    [60.  0.]]]]\n",
      "\n",
      "\n",
      "\n",
      " [[[[37. 16.]\n",
      "    [58.  0.]]]\n",
      "\n",
      "\n",
      "  [[[37. 16.]\n",
      "    [58.  0.]]]\n",
      "\n",
      "\n",
      "  [[[60. 30.]\n",
      "    [90.  0.]]]\n",
      "\n",
      "\n",
      "  [[[60. 30.]\n",
      "    [90.  0.]]]\n",
      "\n",
      "\n",
      "  [[[60. 30.]\n",
      "    [90.  0.]]]]]\n",
      "Final Grid after all time steps:\n",
      " [[[[37. 16.]\n",
      "   [58.  0.]]]\n",
      "\n",
      "\n",
      " [[[37. 16.]\n",
      "   [58.  0.]]]\n",
      "\n",
      "\n",
      " [[[60. 30.]\n",
      "   [90.  0.]]]\n",
      "\n",
      "\n",
      " [[[60. 30.]\n",
      "   [90.  0.]]]\n",
      "\n",
      "\n",
      " [[[60. 30.]\n",
      "   [90.  0.]]]]\n"
     ]
    }
   ],
   "source": [
    "# Step 1: Initialize the (3, 1, 5, 5) grid array with zeros\n",
    "grid = jnp.zeros((5, 1, 2, 2))\n",
    "\n",
    "# Step 2: Define the input array with a time dimension (t, m)\n",
    "input_array = jnp.array([\n",
    "    [[10, 20, 30], [10, 20, 30], [10, 20, 30],[10, 20, 30],[10, 20, 30]],  # t = 0\n",
    "    [[5, 15, 25],  [5, 15, 25],[10, 20, 30],[10, 20, 30],[10, 20, 30] ],# t = 1\n",
    "    [[1, 2, 3], [1, 2, 3],[10, 20, 30],[10, 20, 30],[10, 20, 30]]   # t = 2\n",
    "])  # example input array with time dimension\n",
    "\n",
    "print(input_array.shape)\n",
    "# Step 3: Define the list of index tuples\n",
    "indices = jnp.array([(0, 1), (0,0), (1, 0)])  # example list of tuples\n",
    "print(indices.shape)\n",
    "# Convert the list of tuples into two separate lists for row and column indices\n",
    "rows, cols = indices[:, 0], indices[:, 1]\n",
    "\n",
    "# Step 4: Define a function to update the grid at each time step\n",
    "def update_grid(grid, input_t):\n",
    "    # Use broadcasting along the first dimension\n",
    "    updated_grid = grid.at[:, 0, rows, cols].add(input_t)\n",
    "    return updated_grid, updated_grid\n",
    "\n",
    "# Step 5: Use jax.lax.scan to apply the update function over the time dimension\n",
    "initial_state = grid\n",
    "time_dimension = input_array.shape[0]\n",
    "\n",
    "# lax.scan takes the function, initial state, and the sequence to iterate over (input_array in this case)\n",
    "final_grid, grids_over_time = lax.scan(update_grid, initial_state, input_array)\n",
    "\n",
    "# Printing the results\n",
    "print(\"Initial Grid:\\n\", grid)\n",
    "print(\"Grids over Time:\\n\", grids_over_time)\n",
    "print(\"Final Grid after all time steps:\\n\", final_grid)\n"
   ]
  },
  {
   "cell_type": "code",
   "execution_count": 29,
   "metadata": {},
   "outputs": [
    {
     "name": "stdout",
     "output_type": "stream",
     "text": [
      "[[[[1. 1. 0. 0.]\n",
      "   [0. 1. 0. 0.]\n",
      "   [0. 0. 0. 1.]\n",
      "   [0. 0. 1. 0.]]]\n",
      "\n",
      "\n",
      " [[[1. 1. 0. 0.]\n",
      "   [0. 1. 0. 0.]\n",
      "   [0. 0. 0. 1.]\n",
      "   [0. 0. 1. 0.]]]\n",
      "\n",
      "\n",
      " [[[1. 1. 0. 0.]\n",
      "   [0. 1. 0. 0.]\n",
      "   [0. 0. 0. 1.]\n",
      "   [0. 0. 1. 0.]]]]\n"
     ]
    }
   ],
   "source": [
    "import jax.numpy as jnp\n",
    "\n",
    "\n",
    "# Example data\n",
    "n_b, d = 3, 4  # Dimensions for the main array\n",
    "n = 5  # Number of index pairs\n",
    "\n",
    "main_array = jnp.zeros((n_b, 1, d, d))\n",
    "index_array = jnp.array([[0, 1], [2, 3], [1, 1], [0, 0], [3, 2]])  # Shape (n, 2)\n",
    "\n",
    "# Extract rows and cols from index_array\n",
    "rows, cols = index_array[:, 0], index_array[:, 1]\n",
    "\n",
    "# Define a function to update the grid at each time step\n",
    "def update_grid(grid, input_t):\n",
    "    # Use broadcasting along the first dimension\n",
    "    updated_grid = grid.at[:, 0, rows, cols].add(input_t)\n",
    "    return updated_grid, updated_grid\n",
    "\n",
    "# Input tensor with the same batch size as main_array\n",
    "input_t = jnp.ones((n_b, n))\n",
    "\n",
    "# Update the main array using the input tensor\n",
    "main_array, updated_grid = update_grid(main_array, input_t)\n",
    "\n",
    "# Print the updated main array\n",
    "print(updated_grid)\n"
   ]
  },
  {
   "cell_type": "code",
   "execution_count": null,
   "metadata": {},
   "outputs": [],
   "source": []
  }
 ],
 "metadata": {
  "kernelspec": {
   "display_name": "modRNN",
   "language": "python",
   "name": "python3"
  },
  "language_info": {
   "codemirror_mode": {
    "name": "ipython",
    "version": 3
   },
   "file_extension": ".py",
   "mimetype": "text/x-python",
   "name": "python",
   "nbconvert_exporter": "python",
   "pygments_lexer": "ipython3",
   "version": "3.12.3"
  }
 },
 "nbformat": 4,
 "nbformat_minor": 2
}
