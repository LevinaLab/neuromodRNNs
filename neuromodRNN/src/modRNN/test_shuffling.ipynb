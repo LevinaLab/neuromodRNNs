{
 "cells": [
  {
   "cell_type": "code",
   "execution_count": null,
   "metadata": {},
   "outputs": [],
   "source": [
    "import jax\n",
    "import jax.numpy as jnp\n",
    "\n",
    "@jax.jit\n",
    "def shuffle_last_two_dims(key, x):\n",
    "    # Get the shape of the input array\n",
    "    n_batches, _, h, w = x.shape\n",
    "    \n",
    "    # Create a random permutation of indices for each batch\n",
    "    batch_indices = jnp.arange(h * w)\n",
    "    shuffled_indices = jax.vmap(lambda k: jax.random.permutation(k, batch_indices, independent=True))(jax.random.split(key, n_batches))\n",
    "\n",
    "    # Flatten the last two dimensions for easy reshaping\n",
    "    x_flat = x.reshape(n_batches, 1, h * w)\n",
    "    \n",
    "    # Apply the shuffled indices to the last two dimensions for each batch\n",
    "    x_shuffled = jax.vmap(lambda x_b, idx: x_b[:, idx])(x_flat, shuffled_indices)\n",
    "    \n",
    "    # Reshape back to the original shape\n",
    "    x_shuffled = x_shuffled.reshape(n_batches, 1, h, w)\n",
    "    \n",
    "    return x_shuffled\n",
    "\n",
    "\n"
   ]
  },
  {
   "cell_type": "code",
   "execution_count": null,
   "metadata": {},
   "outputs": [],
   "source": [
    "# Simulating a training loop\n",
    "def training_loop(n_steps, x):\n",
    "    key = jax.random.PRNGKey(42)  # Initialize base key\n",
    "    \n",
    "    for step in range(n_steps):\n",
    "\n",
    "        key, subkey = jax.random.split(key)  # Split the key at each iteration\n",
    "        print(key)\n",
    "        shuffled_x = shuffle_last_two_dims(subkey, x)  # Use the subkey\n",
    "        # Simulate training step (e.g., forward pass, loss, backprop)\n",
    "        print(f\"Step {step} shuffled_x: \\n\", shuffled_x)\n",
    "        \n",
    "# Example usage\n",
    "x = jnp.arange(2 * 1 * 4 * 4).reshape(2, 1, 4, 4)\n",
    "training_loop(5, x)  # Running the loop for 5 steps\n"
   ]
  },
  {
   "cell_type": "code",
   "execution_count": null,
   "metadata": {},
   "outputs": [],
   "source": []
  },
  {
   "cell_type": "code",
   "execution_count": null,
   "metadata": {},
   "outputs": [],
   "source": []
  }
 ],
 "metadata": {
  "kernelspec": {
   "display_name": "modRNN",
   "language": "python",
   "name": "python3"
  },
  "language_info": {
   "codemirror_mode": {
    "name": "ipython",
    "version": 3
   },
   "file_extension": ".py",
   "mimetype": "text/x-python",
   "name": "python",
   "nbconvert_exporter": "python",
   "pygments_lexer": "ipython3",
   "version": "3.12.3"
  }
 },
 "nbformat": 4,
 "nbformat_minor": 2
}
