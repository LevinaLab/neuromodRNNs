{
 "cells": [
  {
   "cell_type": "code",
   "execution_count": null,
   "metadata": {},
   "outputs": [],
   "source": [
    "import matplotlib.pyplot as plt\n",
    "import plot_figures\n",
    "from met_brewer import met_brew"
   ]
  },
  {
   "cell_type": "code",
   "execution_count": null,
   "metadata": {},
   "outputs": [],
   "source": [
    "colors = [\"#C20017\", \"#23AA00\", \"#cac100ff\"]\n",
    "met_brew_colors = met_brew('Archambault', n=7, brew_type='continuous')\n",
    "met_brew_colors\n",
    "\"#88a0dc\", \"#e78429\", \"#7c4b73\""
   ]
  },
  {
   "cell_type": "markdown",
   "metadata": {},
   "source": [
    "# Fig 1\n",
    "Comparison between methods\n"
   ]
  },
  {
   "cell_type": "code",
   "execution_count": null,
   "metadata": {},
   "outputs": [],
   "source": [
    "plt.rcParams.update({'font.size': 22})\n",
    "fig, ax = plt.subplots( figsize=(6,4))\n",
    "\n",
    "colors = [\"#C20017\", \"#cac100ff\", \"#23AA00\"]\n",
    "comparison_experiment_paths = [r\"C:\\Users\\j1559\\Documents\\Tuebingen\\SS_24\\MasterThesis\\neuromodRNNs\\neuromodRNN\\outputs\\delayed_match\\Fig_1\\BPTT_lr_0050_c_reg_0_10\",\n",
    "                               r\"C:\\Users\\j1559\\Documents\\Tuebingen\\SS_24\\MasterThesis\\neuromodRNNs\\neuromodRNN\\outputs\\delayed_match\\Fig_1\\mean_e_prop_lr_0050_c_reg_0_10\",\n",
    "                               r\"C:\\Users\\j1559\\Documents\\Tuebingen\\SS_24\\MasterThesis\\neuromodRNNs\\neuromodRNN\\outputs\\delayed_match\\Fig_1\\diffusion_k_075_lr_0050_c_reg_0_01\",\n",
    "                              ]\n",
    "            \n",
    "                              \n",
    "\n",
    "labels = [\"BPTT\", \"E-prop\", \"Diffusion\"]\n",
    "\n",
    "for experiment_path, label, color in zip(comparison_experiment_paths, labels, colors):\n",
    "    plot_figures.plot_multiruns(experiment_folder=experiment_path, label=label,metric_file=\"loss_eval.pkl\", ax=ax, color=color)\n",
    "\n",
    "ax.legend(loc='lower left')\n",
    "ax.set_ylabel(\"Cross-Entropy\")\n",
    "ax.set_xlabel(\"Iterations\")\n",
    "ax.set_title(\"Delayed Match to Sample\")\n",
    "ax.spines['right'].set_visible(False)\n",
    "ax.spines['top'].set_visible(False)\n",
    "ax.set_yticks([0.0, 0.1, 0.2, 0.3, 0.4, 0.5, 0.6, 0.7])\n",
    "ax.set_ylim(0, 0.735)\n",
    "fig.savefig(\"delayed_match.svg\", format=\"svg\")\n"
   ]
  },
  {
   "cell_type": "markdown",
   "metadata": {},
   "source": [
    "# Fig 2\n",
    "Comparison between K"
   ]
  },
  {
   "cell_type": "code",
   "execution_count": null,
   "metadata": {},
   "outputs": [],
   "source": [
    "plt.rcParams.update({'font.size': 22})\n",
    "fig, axs = plt.subplots(2, 1, figsize=(6,8))\n",
    "diffusion_experiment_paths = [r\"C:\\Users\\j1559\\Documents\\Tuebingen\\SS_24\\MasterThesis\\neuromodRNNs\\neuromodRNN\\outputs\\delayed_match\\Fig_2\\diffusion_k_025_lr_0050_c_reg_0_01\",    \n",
    "                               r\"C:\\Users\\j1559\\Documents\\Tuebingen\\SS_24\\MasterThesis\\neuromodRNNs\\neuromodRNN\\outputs\\delayed_match\\Fig_2\\diffusion_k_050_lr_0050_c_reg_0_01\",\n",
    "                               r\"C:\\Users\\j1559\\Documents\\Tuebingen\\SS_24\\MasterThesis\\neuromodRNNs\\neuromodRNN\\outputs\\delayed_match\\Fig_2\\diffusion_k_075_lr_0050_c_reg_0_01\",\n",
    "                               r\"C:\\Users\\j1559\\Documents\\Tuebingen\\SS_24\\MasterThesis\\neuromodRNNs\\neuromodRNN\\outputs\\delayed_match\\Fig_2\\diffusion_k_090_lr_0050_c_reg_0_01\"\n",
    "                               ]\n",
    "labels = [\"k=0.25\",\"k=0.50\", \"k=0.75\", \"k=0.90\"]\n",
    "colors = [\"#62D643\", \"#3BCF14\",\"#1D8A00\", \"#156400\"]\n",
    "\n",
    "axs[0].set_ylabel(\"Cross-Entropy\")\n",
    "axs[0].set_title(\"Delayed Match to Sample\")\n",
    "\n",
    "axs[0].set_xlabel(\"Iterations\")\n",
    "axs[0].spines['right'].set_visible(False)\n",
    "axs[0].spines['top'].set_visible(False)\n",
    "axs[0].set_yticks([0.1, 0.2, 0.3, 0.4, 0.5, 0.6, 0.7])\n",
    "for experiment_path, label, color in zip(diffusion_experiment_paths, labels,colors):\n",
    "    plot_figures.plot_multiruns(experiment_folder=experiment_path, label=label, metric_file=\"loss_eval.pkl\", ax=axs[0],color=color)\n",
    "\n",
    "\n",
    "for i, (experiment_path, label, color) in enumerate(zip(diffusion_experiment_paths, labels,colors)):\n",
    "    plot_figures.boxplot_multiruns(experiment_folder=experiment_path, label=label, metric_file=\"loss_eval.pkl\",position=i+1, ax=axs[1],color=color)\n",
    "\n",
    "\n",
    "# Set x-axis labels and positions\n",
    "axs[1].set_xticks([1,2,3,4])\n",
    "axs[1].set_xticklabels([\"0.25\",\"0.50\", \"0.75\", \"0.90\"])\n",
    "axs[1].set_xlabel(\"k value\")\n",
    "axs[1].set_ylabel(\"Cross-Entropy\")\n",
    "axs[1].spines['right'].set_visible(False)\n",
    "axs[1].spines['top'].set_visible(False)\n",
    "axs[1].set_yticks([0.1, 0.2, 0.3, 0.4, 0.5])\n",
    "axs[0].set_ylim(0.0, 0.735)\n",
    "axs[1].set_ylim(0.0)\n",
    "fig.tight_layout()\n",
    "\n",
    "fig.savefig(\"k_delay_match.svg\", format=\"svg\")\n",
    "\n",
    "\n",
    "\n",
    "\n"
   ]
  },
  {
   "cell_type": "markdown",
   "metadata": {},
   "source": [
    "# Fig 3\n",
    "\n",
    "Shuffling and Sparse"
   ]
  },
  {
   "cell_type": "code",
   "execution_count": null,
   "metadata": {},
   "outputs": [],
   "source": [
    "plt.rcParams.update({'font.size': 22})\n",
    "fig, axs = plt.subplots(2, 1, figsize=(6,8))\n",
    "comparison_experiment_paths = [r\"C:\\Users\\j1559\\Documents\\Tuebingen\\SS_24\\MasterThesis\\neuromodRNNs\\neuromodRNN\\outputs\\delayed_match\\Fig_1\\diffusion_k_075_lr_0050_c_reg_0_01\",    \n",
    "                               r\"C:\\Users\\j1559\\Documents\\Tuebingen\\SS_24\\MasterThesis\\neuromodRNNs\\neuromodRNN\\outputs\\delayed_match\\Fig_3\\sparse_mean_diffusion_k_075_lr_0050_creg_001\",\n",
    "                               r\"C:\\Users\\j1559\\Documents\\Tuebingen\\SS_24\\MasterThesis\\neuromodRNNs\\neuromodRNN\\outputs\\delayed_match\\Fig_3\\shuffled_mean_diffusion_k_075_lr_0050_creg_01\"\n",
    "                               ]\n",
    "labels = [\"Local\",\"Sparse\",\"Shuffled\"]\n",
    "colors = [\"#23AA00\", \"#F68917\", \"#6E0385\"]\n",
    "\n",
    "axs[0].set_ylabel(\"Cross-Entropy\")\n",
    "axs[0].set_title(\"Delayed Match to Sample\")\n",
    "\n",
    "axs[0].set_xlabel(\"Iterations\")\n",
    "axs[0].spines['right'].set_visible(False)\n",
    "axs[0].spines['top'].set_visible(False)\n",
    "axs[0].set_yticks([0.1, 0.2, 0.3, 0.4, 0.5, 0.6, 0.7])\n",
    "for experiment_path, label, color in zip(comparison_experiment_paths, labels,colors):\n",
    "    plot_figures.plot_multiruns(experiment_folder=experiment_path, label=label, metric_file=\"loss_eval.pkl\", ax=axs[0],color=color)\n",
    "\n",
    "\n",
    "for i, (experiment_path, label, color) in enumerate(zip(comparison_experiment_paths, labels,colors)):\n",
    "    plot_figures.boxplot_multiruns(experiment_folder=experiment_path, label=label, metric_file=\"loss_eval.pkl\",position=i+1, ax=axs[1],color=color)\n",
    "\n",
    "\n",
    "# Set x-axis labels and positions\n",
    "axs[1].set_xticks([1,2,3])\n",
    "axs[1].set_xticklabels([\"Local\",\"Sparse\",\"Shuffled\"])\n",
    "\n",
    "axs[1].set_ylabel(\"Cross-Entropy\")\n",
    "axs[1].spines['right'].set_visible(False)\n",
    "axs[1].spines['top'].set_visible(False)\n",
    "axs[1].set_yticks([ 0.1, 0.2, 0.3, 0.4, 0.5, 0.6])\n",
    "axs[0].set_ylim(0.0, 0.735)\n",
    "axs[1].set_ylim(0.0)\n",
    "fig.tight_layout()\n",
    "\n",
    "fig.savefig(\"shuffle_delay_match.svg\", format=\"svg\")\n",
    "\n"
   ]
  },
  {
   "cell_type": "markdown",
   "metadata": {},
   "source": [
    "# Supplementary Fig 1"
   ]
  },
  {
   "cell_type": "code",
   "execution_count": null,
   "metadata": {},
   "outputs": [],
   "source": [
    "plt.rcParams.update({'font.size': 22})\n",
    "fig, ax = plt.subplots(figsize=(6,4))\n",
    "a= [\"#6B2F9E\", \"#23AA00\", \"#C20017\"]\n",
    "comparison_experiment_paths = [r\"C:\\Users\\j1559\\Documents\\Tuebingen\\SS_24\\MasterThesis\\neuromodRNNs\\neuromodRNN\\outputs\\delayed_match\\Supplementary_Fig_1\\full_readout_BPTT_lr_0050_c_reg_05\",    \n",
    "                               r\"C:\\Users\\j1559\\Documents\\Tuebingen\\SS_24\\MasterThesis\\neuromodRNNs\\neuromodRNN\\outputs\\delayed_match\\Supplementary_Fig_1\\full_readout_e_prop_lr_0050_c_reg_1\",\n",
    "                               r\"C:\\Users\\j1559\\Documents\\Tuebingen\\SS_24\\MasterThesis\\neuromodRNNs\\neuromodRNN\\outputs\\delayed_match\\Supplementary_Fig_1\\full_readout_diffusion_k_075_lr_0050_c_reg_0_3\"\n",
    "                               ]\n",
    "labels = [\"BPTT\",\"E-prop\",\"Diffusion\"]\n",
    "colors = [\"#C20017\", \"#cac100ff\", \"#23AA00\"]\n",
    "ax.set_ylabel(\"Cross-Entropy\")\n",
    "ax.set_title(\"Delayed Match to Sample\")\n",
    "ax.set_yticks([0.0, 0.1, 0.2, 0.3, 0.4, 0.5, 0.6, 0.7])\n",
    "ax.set_xlabel(\"Iterations\")\n",
    "ax.spines['right'].set_visible(False)\n",
    "ax.spines['top'].set_visible(False)\n",
    "ax.set_ylim(0,0.73)\n",
    "for experiment_path, label, color in zip(comparison_experiment_paths, labels,colors):\n",
    "    plot_figures.plot_multiruns(experiment_folder=experiment_path, label=label, metric_file=\"loss_eval.pkl\", ax=ax,color=color)\n",
    "fig.savefig(\"full_delayed_sample.svg\", format=\"svg\")"
   ]
  },
  {
   "cell_type": "code",
   "execution_count": null,
   "metadata": {},
   "outputs": [],
   "source": []
  }
 ],
 "metadata": {
  "kernelspec": {
   "display_name": "modRNN",
   "language": "python",
   "name": "python3"
  },
  "language_info": {
   "codemirror_mode": {
    "name": "ipython",
    "version": 3
   },
   "file_extension": ".py",
   "mimetype": "text/x-python",
   "name": "python",
   "nbconvert_exporter": "python",
   "pygments_lexer": "ipython3",
   "version": "3.12.3"
  }
 },
 "nbformat": 4,
 "nbformat_minor": 2
}
