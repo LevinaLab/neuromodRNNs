{
 "cells": [
  {
   "cell_type": "code",
   "execution_count": null,
   "metadata": {},
   "outputs": [],
   "source": [
    "import matplotlib.pyplot as plt\n",
    "import plot_figures"
   ]
  },
  {
   "cell_type": "markdown",
   "metadata": {},
   "source": [
    "## Comparison between different diffusion destruction rate, e-prop, and BPTT\n",
    "\n",
    "- Local connectivity\n",
    "- Sparse Connection\n",
    "- 8 different input realizations each batch (same for all batches)"
   ]
  },
  {
   "cell_type": "markdown",
   "metadata": {},
   "source": [
    "### \"High weight inits\""
   ]
  },
  {
   "cell_type": "code",
   "execution_count": null,
   "metadata": {},
   "outputs": [],
   "source": [
    "fig, axs = plt.subplots(1, 2, figsize=(12,6))\n",
    "\n",
    "diffusion_experiment_paths = [r\"C:\\Users\\j1559\\Documents\\Tuebingen\\SS_24\\MasterThesis\\neuromodRNNs\\neuromodRNN\\outputs\\pattern_generation\\8_inputs\\high_init_diffusion_025\",\n",
    "                              r\"C:\\Users\\j1559\\Documents\\Tuebingen\\SS_24\\MasterThesis\\neuromodRNNs\\neuromodRNN\\outputs\\pattern_generation\\8_inputs\\high_init_diffusion_050\",\n",
    "                              r\"C:\\Users\\j1559\\Documents\\Tuebingen\\SS_24\\MasterThesis\\neuromodRNNs\\neuromodRNN\\outputs\\pattern_generation\\8_inputs\\high_init_diffusion_075\",\n",
    "                              r\"C:\\Users\\j1559\\Documents\\Tuebingen\\SS_24\\MasterThesis\\neuromodRNNs\\neuromodRNN\\outputs\\pattern_generation\\8_inputs\\high_init_diffusion_090\"\n",
    "                            ]\n",
    "\n",
    "labels = [\"k=0.25\", \"k=0.50\", \"k=0.75\", \"k=0.90\"]\n",
    "\n",
    "for experiment_path, label in zip(diffusion_experiment_paths, labels):\n",
    "    plot_figures.plot_multiruns(experiment_folder=experiment_path, label=label, metric_file=\"nMSE_eval.pkl\" ,ax=axs[0])\n",
    "\n",
    "comparison_experiment_paths = [r\"C:\\Users\\j1559\\Documents\\Tuebingen\\SS_24\\MasterThesis\\neuromodRNNs\\neuromodRNN\\outputs\\pattern_generation\\8_inputs\\High_init_BPTT\",    \n",
    "                               r\"C:\\Users\\j1559\\Documents\\Tuebingen\\SS_24\\MasterThesis\\neuromodRNNs\\neuromodRNN\\outputs\\pattern_generation\\8_inputs\\High_init_e_prop\",\n",
    "                               r\"C:\\Users\\j1559\\Documents\\Tuebingen\\SS_24\\MasterThesis\\neuromodRNNs\\neuromodRNN\\outputs\\pattern_generation\\8_inputs\\high_init_diffusion_050\"\n",
    "                               ]\n",
    "\n",
    "labels = [\"BPTT\", \"e_prop\", \"k=0.50\"]\n",
    "\n",
    "for experiment_path, label in zip(comparison_experiment_paths, labels):\n",
    "    plot_figures.plot_multiruns(experiment_folder=experiment_path, label=label, metric_file=\"nMSE_eval.pkl\", ax=axs[1])\n",
    "\n",
    "axs[0].set_ylabel(\"nMSE\")\n",
    "axs[0].set_title(\"Different K values\")\n",
    "axs[1].set_title(\"Comparison with other methods\")\n",
    "fig.supxlabel(\"Iterations\")\n",
    "fig.suptitle(\"Pattern generation with 8 inputs realization and high weights init\")"
   ]
  },
  {
   "cell_type": "markdown",
   "metadata": {},
   "source": [
    "### \"Mid weight inits\""
   ]
  },
  {
   "cell_type": "code",
   "execution_count": null,
   "metadata": {},
   "outputs": [],
   "source": [
    "fig, axs = plt.subplots(1, 2, figsize=(12,6))\n",
    "\n",
    "diffusion_experiment_paths = [r\"C:\\Users\\j1559\\Documents\\Tuebingen\\SS_24\\MasterThesis\\neuromodRNNs\\neuromodRNN\\outputs\\pattern_generation\\8_inputs\\mid_init_diffusion_025\",\n",
    "                              r\"C:\\Users\\j1559\\Documents\\Tuebingen\\SS_24\\MasterThesis\\neuromodRNNs\\neuromodRNN\\outputs\\pattern_generation\\8_inputs\\mid_init_diffusion_050\",\n",
    "                              r\"C:\\Users\\j1559\\Documents\\Tuebingen\\SS_24\\MasterThesis\\neuromodRNNs\\neuromodRNN\\outputs\\pattern_generation\\8_inputs\\mid_init_diffusion_075\",\n",
    "                              r\"C:\\Users\\j1559\\Documents\\Tuebingen\\SS_24\\MasterThesis\\neuromodRNNs\\neuromodRNN\\outputs\\pattern_generation\\8_inputs\\mid_init_diffusion_090\"\n",
    "                            ]\n",
    "\n",
    "labels = [\"k=0.25\", \"k=0.50\", \"k=0.75\", \"k=0.90\"]\n",
    "\n",
    "for experiment_path, label in zip(diffusion_experiment_paths, labels):\n",
    "    plot_figures.plot_multiruns(experiment_folder=experiment_path, label=label, metric_file=\"nMSE_eval.pkl\" ,ax=axs[0])\n",
    "\n",
    "comparison_experiment_paths = [r\"C:\\Users\\j1559\\Documents\\Tuebingen\\SS_24\\MasterThesis\\neuromodRNNs\\neuromodRNN\\outputs\\pattern_generation\\8_inputs\\mid_init_BPTT\",    \n",
    "                               r\"C:\\Users\\j1559\\Documents\\Tuebingen\\SS_24\\MasterThesis\\neuromodRNNs\\neuromodRNN\\outputs\\pattern_generation\\8_inputs\\mid_init_e_prop\",\n",
    "                               r\"C:\\Users\\j1559\\Documents\\Tuebingen\\SS_24\\MasterThesis\\neuromodRNNs\\neuromodRNN\\outputs\\pattern_generation\\8_inputs\\mid_init_diffusion_050\"\n",
    "                               ]\n",
    "\n",
    "labels = [\"BPTT\", \"e_prop\", \"k=0.50\"]\n",
    "\n",
    "for experiment_path, label in zip(comparison_experiment_paths, labels):\n",
    "    plot_figures.plot_multiruns(experiment_folder=experiment_path, label=label, metric_file=\"nMSE_eval.pkl\", ax=axs[1])\n",
    "\n",
    "axs[0].set_ylabel(\"nMSE\")\n",
    "axs[0].set_title(\"Different K values\")\n",
    "axs[1].set_title(\"Comparison with other methods\")\n",
    "fig.supxlabel(\"Iterations\")\n",
    "fig.suptitle(\"Pattern generation with 8 inputs realization and low weights init\")"
   ]
  },
  {
   "cell_type": "markdown",
   "metadata": {},
   "source": [
    "### \"Low weight init\""
   ]
  },
  {
   "cell_type": "code",
   "execution_count": null,
   "metadata": {},
   "outputs": [],
   "source": [
    "fig, axs = plt.subplots(1, 2, figsize=(12,6))\n",
    "\n",
    "diffusion_experiment_paths = [r\"C:\\Users\\j1559\\Documents\\Tuebingen\\SS_24\\MasterThesis\\neuromodRNNs\\neuromodRNN\\outputs\\pattern_generation\\8_inputs\\low_init_diffusion_025\",\n",
    "                              r\"C:\\Users\\j1559\\Documents\\Tuebingen\\SS_24\\MasterThesis\\neuromodRNNs\\neuromodRNN\\outputs\\pattern_generation\\8_inputs\\low_init_diffusion_050\",\n",
    "                              r\"C:\\Users\\j1559\\Documents\\Tuebingen\\SS_24\\MasterThesis\\neuromodRNNs\\neuromodRNN\\outputs\\pattern_generation\\8_inputs\\low_init_diffusion_075\",\n",
    "                              r\"C:\\Users\\j1559\\Documents\\Tuebingen\\SS_24\\MasterThesis\\neuromodRNNs\\neuromodRNN\\outputs\\pattern_generation\\8_inputs\\low_init_diffusion_090\"\n",
    "                            ]\n",
    "\n",
    "labels = [\"k=0.25\", \"k=0.50\", \"k=0.75\", \"k=0.90\"]\n",
    "\n",
    "for experiment_path, label in zip(diffusion_experiment_paths, labels):\n",
    "    plot_figures.plot_multiruns(experiment_folder=experiment_path, label=label, metric_file=\"nMSE_eval.pkl\" ,ax=axs[0])\n",
    "\n",
    "comparison_experiment_paths = [r\"C:\\Users\\j1559\\Documents\\Tuebingen\\SS_24\\MasterThesis\\neuromodRNNs\\neuromodRNN\\outputs\\pattern_generation\\8_inputs\\low_init_BPTT\",    \n",
    "                               r\"C:\\Users\\j1559\\Documents\\Tuebingen\\SS_24\\MasterThesis\\neuromodRNNs\\neuromodRNN\\outputs\\pattern_generation\\8_inputs\\low_init_e_prop\",\n",
    "                               r\"C:\\Users\\j1559\\Documents\\Tuebingen\\SS_24\\MasterThesis\\neuromodRNNs\\neuromodRNN\\outputs\\pattern_generation\\8_inputs\\low_init_diffusion_075\"\n",
    "                               ]\n",
    "\n",
    "labels = [\"BPTT\", \"e_prop\", \"k=0.50\"]\n",
    "\n",
    "for experiment_path, label in zip(comparison_experiment_paths, labels):\n",
    "    plot_figures.plot_multiruns(experiment_folder=experiment_path, label=label, metric_file=\"nMSE_eval.pkl\", ax=axs[1])\n",
    "\n",
    "axs[0].set_ylabel(\"nMSE\")\n",
    "axs[0].set_title(\"Different K values\")\n",
    "axs[1].set_title(\"Comparison with other methods\")\n",
    "fig.supxlabel(\"Iterations\")\n",
    "fig.suptitle(\"Pattern generation with 8 inputs realization and low weights init\")"
   ]
  },
  {
   "cell_type": "code",
   "execution_count": null,
   "metadata": {},
   "outputs": [],
   "source": []
  }
 ],
 "metadata": {
  "kernelspec": {
   "display_name": "modRNN",
   "language": "python",
   "name": "python3"
  },
  "language_info": {
   "codemirror_mode": {
    "name": "ipython",
    "version": 3
   },
   "file_extension": ".py",
   "mimetype": "text/x-python",
   "name": "python",
   "nbconvert_exporter": "python",
   "pygments_lexer": "ipython3",
   "version": "3.12.3"
  }
 },
 "nbformat": 4,
 "nbformat_minor": 2
}
