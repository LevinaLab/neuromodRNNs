{
 "cells": [
  {
   "cell_type": "code",
   "execution_count": null,
   "metadata": {},
   "outputs": [],
   "source": [
    "import matplotlib.pyplot as plt\n",
    "import plot_figures\n",
    "from met_brewer import met_brew"
   ]
  },
  {
   "cell_type": "markdown",
   "metadata": {},
   "source": [
    "## Comparison between different diffusion destruction rate, e-prop, and BPTT\n",
    "\n",
    "- Local connectivity\n",
    "- Sparse Connection\n",
    "- 8 different input realizations each batch (same for all batches)"
   ]
  },
  {
   "cell_type": "code",
   "execution_count": null,
   "metadata": {},
   "outputs": [],
   "source": [
    "\"#C20017\", \"#D25C12\" , \"#0C886C\",\"#6B2F9E\"\n",
    "\n",
    "\"#C20017\", \"#23AA00\",\"#6B2F9E\"\n",
    "met_brew_colors = met_brew('Archambault', n=24, brew_type='continuous')\n",
    "met_brew_colors_2 = met_brew('OKeeffe1', n=256, brew_type='continuous')\n",
    "met_brew_colors_2 = met_brew_colors_2[0:118] + met_brew_colors_2[138:]"
   ]
  },
  {
   "cell_type": "code",
   "execution_count": null,
   "metadata": {},
   "outputs": [],
   "source": [
    "fig, ax = plt.subplots(figsize=(len(met_brew_colors_2), 2))\n",
    "\n",
    "# Plot each color as a rectangle\n",
    "for i, color in enumerate(met_brew_colors_2):\n",
    "    ax.add_patch(plt.Rectangle((i, 0), 1, 1, color=color))\n",
    "\n",
    "# Adjust the plot limits and remove the axes for a cleaner look\n",
    "ax.set_xlim(0, len(met_brew_colors_2))\n",
    "ax.set_ylim(0, 1)\n",
    "ax.axis('off')\n",
    "\n",
    "# Display the plot\n",
    "plt.show()"
   ]
  },
  {
   "cell_type": "code",
   "execution_count": null,
   "metadata": {},
   "outputs": [],
   "source": [
    "fig, ax = plt.subplots(figsize=(len(met_brew_colors), 2))\n",
    "\n",
    "# Plot each color as a rectangle\n",
    "for i, color in enumerate(met_brew_colors):\n",
    "    ax.add_patch(plt.Rectangle((i, 0), 1, 1, color=color))\n",
    "\n",
    "# Adjust the plot limits and remove the axes for a cleaner look\n",
    "ax.set_xlim(0, len(met_brew_colors))\n",
    "ax.set_ylim(0, 1)\n",
    "ax.axis('off')\n",
    "\n",
    "# Display the plot\n",
    "plt.show()"
   ]
  },
  {
   "cell_type": "code",
   "execution_count": null,
   "metadata": {},
   "outputs": [],
   "source": [
    "met_brew_colors"
   ]
  },
  {
   "cell_type": "markdown",
   "metadata": {},
   "source": [
    "# Fig 1"
   ]
  },
  {
   "cell_type": "code",
   "execution_count": null,
   "metadata": {},
   "outputs": [],
   "source": [
    "plt.rcParams.update({'font.size': 22})\n",
    "fig, ax = plt.subplots(figsize=(6,4))\n",
    "a= [\"#6B2F9E\", \"#23AA00\", \"#C20017\"]\n",
    "comparison_experiment_paths = [r\"C:\\Users\\j1559\\Documents\\Tuebingen\\SS_24\\MasterThesis\\neuromodRNNs\\neuromodRNN\\outputs\\pattern_generation\\Fig_1\\BPTT_lr_010\",    \n",
    "                               r\"C:\\Users\\j1559\\Documents\\Tuebingen\\SS_24\\MasterThesis\\neuromodRNNs\\neuromodRNN\\outputs\\pattern_generation\\Fig_1\\e_prop_hardcoded_lr_010\",\n",
    "                               r\"C:\\Users\\j1559\\Documents\\Tuebingen\\SS_24\\MasterThesis\\neuromodRNNs\\neuromodRNN\\outputs\\pattern_generation\\Fig_1\\diffusion_k_075_lr_010\"\n",
    "                               ]\n",
    "labels = [\"BPTT\",\"E-prop\",\"Diffusion\"]\n",
    "colors = [\"#C20017\", \"#cac100ff\", \"#23AA00\"]\n",
    "ax.set_ylabel(\"nMSE\")\n",
    "ax.set_title(\"Pattern Generation\")\n",
    "\n",
    "ax.set_xlabel(\"Iterations\")\n",
    "ax.spines['right'].set_visible(False)\n",
    "ax.spines['top'].set_visible(False)\n",
    "for experiment_path, label, color in zip(comparison_experiment_paths, labels,colors):\n",
    "    plot_figures.plot_multiruns(experiment_folder=experiment_path, label=label, metric_file=\"nMSE_eval.pkl\", ax=ax,color=color)\n",
    "fig.savefig(\"pattern_generation.svg\", format=\"svg\")\n"
   ]
  },
  {
   "cell_type": "markdown",
   "metadata": {},
   "source": [
    "# Fig 2\n",
    "\n",
    "k comparison"
   ]
  },
  {
   "cell_type": "code",
   "execution_count": null,
   "metadata": {},
   "outputs": [],
   "source": [
    "plt.rcParams.update({'font.size': 22})\n",
    "fig, axs = plt.subplots(2, 1, figsize=(6,8))\n",
    "diffusion_experiment_paths = [r\"C:\\Users\\j1559\\Documents\\Tuebingen\\SS_24\\MasterThesis\\neuromodRNNs\\neuromodRNN\\outputs\\pattern_generation\\Fig_2\\diffusion_k_025_lr_010\",    \n",
    "                               r\"C:\\Users\\j1559\\Documents\\Tuebingen\\SS_24\\MasterThesis\\neuromodRNNs\\neuromodRNN\\outputs\\pattern_generation\\Fig_2\\diffusion_k_050_lr_010\",\n",
    "                               r\"C:\\Users\\j1559\\Documents\\Tuebingen\\SS_24\\MasterThesis\\neuromodRNNs\\neuromodRNN\\outputs\\pattern_generation\\Fig_2\\diffusion_k_075_lr_010\",\n",
    "                               r\"C:\\Users\\j1559\\Documents\\Tuebingen\\SS_24\\MasterThesis\\neuromodRNNs\\neuromodRNN\\outputs\\pattern_generation\\Fig_2\\diffusion_k_090_lr_010\"\n",
    "                               ]\n",
    "labels = [\"k=0.25\",\"k=0.50\", \"k=0.75\", \"k=0.90\"]\n",
    "colors = [\"#62D643\", \"#3BCF14\",\"#1D8A00\", \"#156400\"]\n",
    "\n",
    "axs[0].set_ylabel(\"nMSE\")\n",
    "axs[0].set_title(\"Pattern Generation\")\n",
    "\n",
    "axs[0].set_xlabel(\"Iterations\")\n",
    "axs[0].spines['right'].set_visible(False)\n",
    "axs[0].spines['top'].set_visible(False)\n",
    "axs[0].set_yticks([0.0, 0.25, 0.5, 0.75, 1.0])\n",
    "for experiment_path, label, color in zip(diffusion_experiment_paths, labels,colors):\n",
    "    plot_figures.plot_multiruns(experiment_folder=experiment_path, label=label, metric_file=\"nMSE_eval.pkl\", ax=axs[0],color=color)\n",
    "\n",
    "\n",
    "for i, (experiment_path, label, color) in enumerate(zip(diffusion_experiment_paths, labels,colors)):\n",
    "    plot_figures.boxplot_multiruns(experiment_folder=experiment_path, label=label, metric_file=\"nMSE_eval.pkl\",position=i+1, ax=axs[1],color=color)\n",
    "\n",
    "\n",
    "# Set x-axis labels and positions\n",
    "axs[1].set_xticks([1,2,3,4])\n",
    "axs[1].set_xticklabels([\"0.25\",\"0.50\", \"0.75\", \"0.90\"])\n",
    "axs[1].set_xlabel(\"k value\")\n",
    "axs[1].set_ylabel(\"nMSE\")\n",
    "axs[1].spines['right'].set_visible(False)\n",
    "axs[1].spines['top'].set_visible(False)\n",
    "axs[1].set_yticks([0.02, 0.03, 0.04])\n",
    "\n",
    "\n",
    "fig.tight_layout()\n",
    "\n",
    "fig.savefig(\"k_pattern_generation.svg\", format=\"svg\")"
   ]
  },
  {
   "cell_type": "markdown",
   "metadata": {},
   "source": [
    "# Fig 3\n",
    "Shuffle and Sparse\n"
   ]
  },
  {
   "cell_type": "code",
   "execution_count": null,
   "metadata": {},
   "outputs": [],
   "source": [
    "plt.rcParams.update({'font.size': 22})\n",
    "fig, axs = plt.subplots(2, 1, figsize=(6,8))\n",
    "comparison_experiment_paths = [r\"C:\\Users\\j1559\\Documents\\Tuebingen\\SS_24\\MasterThesis\\neuromodRNNs\\neuromodRNN\\outputs\\pattern_generation\\Fig_3\\diffusion_k_075_lr_010\",    \n",
    "                                r\"C:\\Users\\j1559\\Documents\\Tuebingen\\SS_24\\MasterThesis\\neuromodRNNs\\neuromodRNN\\outputs\\pattern_generation\\Fig_3\\high_init_diffusion_k_075_sparse_connection_lr_010\",\n",
    "                               r\"C:\\Users\\j1559\\Documents\\Tuebingen\\SS_24\\MasterThesis\\neuromodRNNs\\neuromodRNN\\outputs\\pattern_generation\\Fig_3\\high_init_diffusion_k_075_shuffled_lr_010\",\n",
    "                              \n",
    "                               ]\n",
    "labels = [\"Local\",\"Sparse\",\"Shuffled\"]\n",
    "colors = [\"#23AA00\", \"#F68917\", \"#6E0385\"]\n",
    "\n",
    "axs[0].set_ylabel(\"nMSE\")\n",
    "axs[0].set_title(\"Pattern Generation\")\n",
    "\n",
    "axs[0].set_xlabel(\"Iterations\")\n",
    "axs[0].spines['right'].set_visible(False)\n",
    "axs[0].spines['top'].set_visible(False)\n",
    "\n",
    "for experiment_path, label, color in zip(comparison_experiment_paths, labels,colors):\n",
    "    plot_figures.plot_multiruns(experiment_folder=experiment_path, label=label, metric_file=\"nMSE_eval.pkl\", ax=axs[0],color=color)\n",
    "\n",
    "\n",
    "for i, (experiment_path, label, color) in enumerate(zip(comparison_experiment_paths, labels,colors)):\n",
    "    plot_figures.boxplot_multiruns(experiment_folder=experiment_path, label=label, metric_file=\"nMSE_eval.pkl\",position=i+1, ax=axs[1],color=color)\n",
    "\n",
    "\n",
    "# Set x-axis labels and positions\n",
    "axs[1].set_xticks([1,2,3])\n",
    "axs[1].set_xticklabels([\"Local\",\"Sparse\",\"Shuffled\"])\n",
    "\n",
    "axs[1].set_ylabel(\"nMSE\")\n",
    "axs[1].spines['right'].set_visible(False)\n",
    "axs[1].spines['top'].set_visible(False)\n",
    "axs[0].set_yticks([0.0, 0.25, 0.5, 0.75, 1.0])\n",
    "\n",
    "fig.tight_layout()\n",
    "\n",
    "fig.savefig(\"shuffle_pattern_generation.svg\", format=\"svg\")"
   ]
  },
  {
   "cell_type": "markdown",
   "metadata": {},
   "source": [
    "# Supplementary Fig 1\n",
    "Full Readout"
   ]
  },
  {
   "cell_type": "code",
   "execution_count": null,
   "metadata": {},
   "outputs": [],
   "source": [
    "plt.rcParams.update({'font.size': 22})\n",
    "fig, ax = plt.subplots(figsize=(6,4))\n",
    "a= [\"#6B2F9E\", \"#23AA00\", \"#C20017\"]\n",
    "comparison_experiment_paths = [r\"C:\\Users\\j1559\\Documents\\Tuebingen\\SS_24\\MasterThesis\\neuromodRNNs\\neuromodRNN\\outputs\\pattern_generation\\Supplementary_Fig1\\full_readout_BPTT_lr_010\",    \n",
    "                               r\"C:\\Users\\j1559\\Documents\\Tuebingen\\SS_24\\MasterThesis\\neuromodRNNs\\neuromodRNN\\outputs\\pattern_generation\\Supplementary_Fig1\\full_readout_e_prop_lr_010\",\n",
    "                               r\"C:\\Users\\j1559\\Documents\\Tuebingen\\SS_24\\MasterThesis\\neuromodRNNs\\neuromodRNN\\outputs\\pattern_generation\\Supplementary_Fig1\\full_readout_diffusion_k_075_lr_010\"\n",
    "                               ]\n",
    "labels = [\"BPTT\",\"E-prop\",\"Diffusion\"]\n",
    "colors = [\"#C20017\", \"#cac100ff\", \"#23AA00\"]\n",
    "ax.set_ylabel(\"nMSE\")\n",
    "ax.set_title(\"Pattern Generation\")\n",
    "\n",
    "ax.set_xlabel(\"Iterations\")\n",
    "ax.spines['right'].set_visible(False)\n",
    "ax.spines['top'].set_visible(False)\n",
    "for experiment_path, label, color in zip(comparison_experiment_paths, labels,colors):\n",
    "    plot_figures.plot_multiruns(experiment_folder=experiment_path, label=label, metric_file=\"nMSE_eval.pkl\", ax=ax,color=color)\n",
    "fig.savefig(\"full_readout_pattern_generation.svg\", format=\"svg\")\n"
   ]
  },
  {
   "cell_type": "code",
   "execution_count": null,
   "metadata": {},
   "outputs": [],
   "source": []
  }
 ],
 "metadata": {
  "kernelspec": {
   "display_name": "modRNN",
   "language": "python",
   "name": "python3"
  },
  "language_info": {
   "codemirror_mode": {
    "name": "ipython",
    "version": 3
   },
   "file_extension": ".py",
   "mimetype": "text/x-python",
   "name": "python",
   "nbconvert_exporter": "python",
   "pygments_lexer": "ipython3",
   "version": "3.12.3"
  }
 },
 "nbformat": 4,
 "nbformat_minor": 2
}
