{
 "cells": [
  {
   "cell_type": "code",
   "execution_count": null,
   "metadata": {},
   "outputs": [],
   "source": [
    "import matplotlib.pyplot as plt\n",
    "import plot_figures\n",
    "from jax import vmap, jit, random, numpy as jnp\n",
    "\n",
    "import sys\n",
    "import os\n",
    "\n",
    "# Add the scripts folder to sys.path\n",
    "sys.path.append(os.path.abspath(\"../\"))\n",
    "\n",
    "# Now you can import my_script\n",
    "import spatial_embedings\n",
    "import extra_initializers"
   ]
  },
  {
   "cell_type": "code",
   "execution_count": null,
   "metadata": {},
   "outputs": [],
   "source": [
    "grid = spatial_embedings.twod_grid(10, 10)"
   ]
  },
  {
   "cell_type": "code",
   "execution_count": null,
   "metadata": {},
   "outputs": [],
   "source": [
    "def pairwise_sq_distance(x, y):\n",
    "    return spatial_embedings.sq_distance(x[0], x[1], y[0], y[1])\n",
    "\n",
    "# Apply the pairwise squared distance function across all points\n",
    "sq_pairwise_distances = vmap(lambda p: vmap(lambda q: pairwise_sq_distance(p, q))(grid))(grid)"
   ]
  },
  {
   "cell_type": "code",
   "execution_count": null,
   "metadata": {},
   "outputs": [],
   "source": [
    "sigma = 0.012\n",
    "key = random.PRNGKey(14515414554512)\n",
    "grid_shape = (10,10)\n",
    "n_rec=100\n",
    "connect_grid = jnp.zeros(100)\n",
    "fixed_cell_ind = [4,4]\n",
    "iter =10000\n",
    "subkey_loc, key = random.split(key, 2)\n",
    "cells_loc = extra_initializers.initialize_neurons_position(gridshape=grid_shape, key=subkey_loc, n_rec=n_rec)()\n",
    "index = jnp.where(jnp.all(cells_loc == jnp.array((4, 4)), axis=1))[0]\n",
    "index\n",
    "cells_loc[43]\n",
    "index = jnp.where(jnp.all(cells_loc == jnp.array((4, 4)), axis=1))[0]\n",
    "rec_cell_loc_ind = jnp.lexsort((cells_loc[:, 1], cells_loc[:, 0])) # sort by row, then column \n",
    "rec_cell_loc_ind[44]\n",
    "index\n",
    "jnp.array([44])"
   ]
  },
  {
   "cell_type": "code",
   "execution_count": null,
   "metadata": {},
   "outputs": [],
   "source": [
    "\n",
    "\n",
    "def run_sim(connect_grid, key, cells_loc): \n",
    "    subkey, key = random.split(key, 2)    \n",
    "    M =extra_initializers.initialize_connectivity_mask(connectivity_rec_layer=\"local\", gridshape=grid_shape,\n",
    "                                                neuron_indices=cells_loc, key=subkey,\n",
    "                                                n_rec=n_rec, sigma=sigma, sparsity=0.1\n",
    "    )()\n",
    "\n",
    "    sorted_recurrent_weights =  M[jnp.ix_(rec_cell_loc_ind, rec_cell_loc_ind)]# (n_rec, n_rec) sorts both rows and columns \n",
    "    connection = jnp.where(sorted_recurrent_weights[jnp.array([44]), :] == 1.)[1]\n",
    "    new_connect_grid = connect_grid.at[connection].add(1/iter)\n",
    "    return new_connect_grid\n"
   ]
  },
  {
   "cell_type": "code",
   "execution_count": null,
   "metadata": {},
   "outputs": [],
   "source": []
  },
  {
   "cell_type": "code",
   "execution_count": null,
   "metadata": {},
   "outputs": [],
   "source": [
    "for i in range(iter):\n",
    "    subkey, key = random.split(key, 2)\n",
    "    connect_grid = run_sim(connect_grid, subkey,cells_loc )\n",
    "    if i % 100 == 0:\n",
    "        print(i)"
   ]
  },
  {
   "cell_type": "code",
   "execution_count": null,
   "metadata": {},
   "outputs": [],
   "source": [
    "connect_grid"
   ]
  },
  {
   "cell_type": "code",
   "execution_count": null,
   "metadata": {},
   "outputs": [],
   "source": [
    "fig,ax = plt.subplots(figsize=(6, 6))\n",
    "prob_grid = connect_grid.reshape(10, 10)\n",
    "prob_grid = prob_grid.at[4, 4].set(jnp.nan)\n",
    "cax = ax.imshow(prob_grid, cmap=\"viridis\", origin=\"upper\", vmin=0, vmax=0.45)\n",
    "ax.invert_yaxis()  # Optional, to match usual grid orientation"
   ]
  },
  {
   "cell_type": "code",
   "execution_count": null,
   "metadata": {},
   "outputs": [],
   "source": []
  }
 ],
 "metadata": {
  "kernelspec": {
   "display_name": "modRNN",
   "language": "python",
   "name": "python3"
  },
  "language_info": {
   "codemirror_mode": {
    "name": "ipython",
    "version": 3
   },
   "file_extension": ".py",
   "mimetype": "text/x-python",
   "name": "python",
   "nbconvert_exporter": "python",
   "pygments_lexer": "ipython3",
   "version": "3.12.3"
  }
 },
 "nbformat": 4,
 "nbformat_minor": 2
}
