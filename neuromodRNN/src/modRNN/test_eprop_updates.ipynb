{
 "cells": [
  {
   "cell_type": "code",
   "execution_count": 1,
   "metadata": {},
   "outputs": [],
   "source": [
    "from jax import random, numpy as jnp\n",
    "import learning_rules"
   ]
  },
  {
   "cell_type": "code",
   "execution_count": 2,
   "metadata": {},
   "outputs": [],
   "source": [
    "\n",
    "\n",
    "\n",
    "kernel = jnp.array([[0.3,0.3], [0.3,0.3], [0.3,0.3]], dtype=jnp.float32)\n",
    "# Initialize parameters\n",
    "eligibility_params = {\"ALIFCell_0\":{'thr': 0.6, 'gamma': 1,'alpha': 0.2865048, 'rho': 0.2865048,'betas': jnp.array([0,1.7,1.7])},\n",
    "                       \n",
    "                       'ReadOut_0':{'kappa': 0.2865048,'feedback_weights':kernel}\n",
    "}\n",
    "\n",
    "\n",
    "\n",
    "\n",
    "# eligibility inputs\n",
    "v_init = jnp.array([[[0.6, 0.6, 0.6], [1, 2, 3]],\n",
    "                    [[0.771, 0.771, 0.771], [1, 2, 3]],\n",
    "                    [[0.821, 0.821, 0.821], [1, 2, 3]],\n",
    "                    [[0.23, 1.13, 1.13], [1, 2, 3]]],dtype=jnp.float32) #(n_t, n_batch, n_rec,)\n",
    "A_thr_init = jnp.array([[[0.6,0.6,0.6], [2,3,4]],\n",
    "                        [[0.6,0.6,0.6], [2,3,4]],\n",
    "                        [[0.6,2.3,2.3], [2,3,4]],\n",
    "                        [[0.6,1.08,1.08], [2,3,4]]], dtype=jnp.float32) #(n_t, n_batch, n_rec)\n",
    "\n",
    "x = jnp.array([[[1,1],[0,1]],\n",
    "               [[1,1],[0,1]],\n",
    "               [[1,1],[0,1]],\n",
    "               [[1,1],[0,1]]], dtype=jnp.float32) # (n_t, n_batch, n_in) simulating here the inputs coming from input neurons \n",
    "\n",
    "\n",
    "r = jnp.array([[[0,0,0],[0,0,0]],\n",
    "               [[0,0,0],[0,0,0]],\n",
    "               [[0,0,0],[0,0,0]],\n",
    "               [[0,0,0],[0,0,0]]], dtype=jnp.float32)\n",
    "\n",
    "z = jnp.array([[[0,0,0],[0,1,1]],\n",
    "               [[1,1,1],[0,1,0]],\n",
    "               [[1,0,0],[0,1,1]],\n",
    "               [[0,1,1],[0,1,1]]], dtype=jnp.float32)\n",
    "\n",
    "\n",
    "\n",
    "eligibility_input = v_init, A_thr_init, r, x\n",
    "\n",
    "# Outputs\n",
    "true_y = jnp.array([[[2,3], [1,2]],\n",
    "                    [[2,3], [1,2]],\n",
    "                    [[2,3], [1,2]],\n",
    "                    [[2,3], [1,2]]], dtype=jnp.float32) # (n_t, n_batch, n_out)\n",
    "y = jnp.array([[[1,0], [2,2]],\n",
    "               [[1,0], [2,2]],\n",
    "               [[1,0], [2,2]],\n",
    "               [[1,0], [2,2]]], dtype=jnp.float32)\n",
    "\n",
    "true_y = jnp.transpose(true_y, (1,0,2)) # (n_b, n_t, n_out)\n",
    "y = jnp.transpose(y, (1,0,2)) # (n_b, n_t, n_out)\n",
    "# inputs\n",
    "batch_inputs = (y, true_y, eligibility_input)\n",
    "\n",
    "#eligibility_carries\n",
    "v_eligibility_vector = jnp.array([[0,0], [0,0]], dtype=jnp.float32) #(n_batch, n_in)\n",
    "a_eligibility_vector = jnp.array([[[0,0],[0,0],[0, 0]], [[0,0],[0,0],[0, 0]]], dtype=jnp.float32) # (n_batch, n_rec,n_in)\n",
    "low_pass_trace = jnp.array([[[0,0],[0,0],[0, 0]], [[0,0],[0,0],[0, 0]]], dtype=jnp.float32) # (n_batch, n_rec,n_in)\n",
    "psi = jnp.array([[0.,0.,0.],[0.,0.,0.]],dtype=jnp.float32) # (n_batch, n_in)\n",
    "init_eligibility_carries_in = {\"v_eligibility_vector\":v_eligibility_vector,\n",
    "                                        \"a_eligibility_vector\":a_eligibility_vector,\n",
    "                                        \"psi\": psi,\n",
    "                                        \"low_pass_eligibility_trace\":low_pass_trace\n",
    "                                        }\n",
    "\n",
    "c_reg =10\n",
    "f_target = 10\n",
    "LS_avail =1\n",
    "trial_lenght = jnp.array([4,4])"
   ]
  },
  {
   "cell_type": "code",
   "execution_count": 3,
   "metadata": {},
   "outputs": [
    {
     "name": "stdout",
     "output_type": "stream",
     "text": [
      "(4, 2, 3)\n"
     ]
    }
   ],
   "source": [
    "print(z.shape)"
   ]
  },
  {
   "cell_type": "code",
   "execution_count": 4,
   "metadata": {},
   "outputs": [],
   "source": [
    "vectorized_update = learning_rules.e_prop_vectorized(batch_init_eligibility_carries=init_eligibility_carries_in,\n",
    "                                                          batch_inputs=batch_inputs, \n",
    "                                                          eligibility_params=eligibility_params,\n",
    "                                                           LS_avail= LS_avail,\n",
    "                                                           z = z, trial_length=trial_lenght,\n",
    "                                                           f_target=f_target, c_reg=c_reg\n",
    "                                                           )\n"
   ]
  },
  {
   "cell_type": "code",
   "execution_count": 5,
   "metadata": {},
   "outputs": [
    {
     "data": {
      "text/plain": [
       "Array([[-5.147802, -5.454222, -5.454222],\n",
       "       [-5.147802, -5.454222, -5.454222]], dtype=float32)"
      ]
     },
     "execution_count": 5,
     "metadata": {},
     "output_type": "execute_result"
    }
   ],
   "source": [
    "vectorized_update"
   ]
  },
  {
   "cell_type": "code",
   "execution_count": 6,
   "metadata": {},
   "outputs": [],
   "source": [
    "online_update = learning_rules.e_prop_online(batch_init_eligibility_carries=init_eligibility_carries_in,\n",
    "                                                          batch_inputs=batch_inputs, \n",
    "                                                          eligibility_params=eligibility_params,\n",
    "                                                           LS_avail= LS_avail,\n",
    "                                                           z = z, trial_length=trial_lenght,\n",
    "                                                           f_target=f_target, c_reg=c_reg)"
   ]
  },
  {
   "cell_type": "code",
   "execution_count": 7,
   "metadata": {},
   "outputs": [
    {
     "data": {
      "text/plain": [
       "Array([[-5.1478024, -5.454222 , -5.454222 ],\n",
       "       [-5.1478024, -5.454222 , -5.454222 ]], dtype=float32)"
      ]
     },
     "execution_count": 7,
     "metadata": {},
     "output_type": "execute_result"
    }
   ],
   "source": [
    "online_update"
   ]
  },
  {
   "cell_type": "markdown",
   "metadata": {},
   "source": [
    "### Testing updates with CA\n",
    "\n",
    "If we have diffusion kernels that are zeroes, the diffusion updates is the same as e-prop"
   ]
  },
  {
   "cell_type": "code",
   "execution_count": 8,
   "metadata": {},
   "outputs": [
    {
     "name": "stdout",
     "output_type": "stream",
     "text": [
      "(3, 2)\n"
     ]
    }
   ],
   "source": [
    "radius = 1\n",
    "k = jnp.zeros((1,1,2*radius+1,2*radius+1)) # 1 output channels, 1 input channel, height 3, width 3\n",
    "\n",
    "diff_params = radius, k\n",
    "\n",
    "initial_error_grid = jnp.zeros((2, 1, 10, 10))\n",
    "\n",
    "neurons_loc = jnp.array([[0,0], [0,1], [1,0]])\n",
    "print(neurons_loc.shape)"
   ]
  },
  {
   "cell_type": "code",
   "execution_count": 9,
   "metadata": {},
   "outputs": [],
   "source": [
    "params = (eligibility_params, diff_params)\n",
    "batch_init_carries = (init_eligibility_carries_in, initial_error_grid)"
   ]
  },
  {
   "cell_type": "code",
   "execution_count": 10,
   "metadata": {},
   "outputs": [
    {
     "name": "stdout",
     "output_type": "stream",
     "text": [
      "task_error_shape[[-1. -3.]\n",
      " [ 1.  0.]]\n",
      "task_error_shape[[-1. -3.]\n",
      " [ 1.  0.]]\n",
      "task_error_shape[[-1. -3.]\n",
      " [ 1.  0.]]\n",
      "task_error_shape[[-1. -3.]\n",
      " [ 1.  0.]]\n"
     ]
    }
   ],
   "source": [
    "diff_updates = learning_rules.neuromod_online(batch_init_carries=batch_init_carries\n",
    "                                              ,cells_loc=neurons_loc, params=params, \n",
    "                                              batch_inputs= batch_inputs, \n",
    "                                             LS_avail= LS_avail, z=z, \n",
    "                                             trial_length=trial_lenght, f_target=f_target, c_reg=c_reg)"
   ]
  },
  {
   "cell_type": "code",
   "execution_count": 11,
   "metadata": {},
   "outputs": [
    {
     "data": {
      "text/plain": [
       "Array([[-5.1478024, -5.454222 , -5.454222 ],\n",
       "       [-5.1478024, -5.454222 , -5.454222 ]], dtype=float32)"
      ]
     },
     "execution_count": 11,
     "metadata": {},
     "output_type": "execute_result"
    }
   ],
   "source": [
    "diff_updates"
   ]
  },
  {
   "cell_type": "code",
   "execution_count": 12,
   "metadata": {},
   "outputs": [],
   "source": [
    "radius = (jnp.shape(k)[2] -1) // 2"
   ]
  },
  {
   "cell_type": "code",
   "execution_count": 16,
   "metadata": {},
   "outputs": [
    {
     "data": {
      "text/plain": [
       "Array(1, dtype=int32)"
      ]
     },
     "execution_count": 16,
     "metadata": {},
     "output_type": "execute_result"
    }
   ],
   "source": [
    "jnp.array(radius, dtype=jnp.int32)"
   ]
  },
  {
   "cell_type": "code",
   "execution_count": null,
   "metadata": {},
   "outputs": [],
   "source": []
  }
 ],
 "metadata": {
  "kernelspec": {
   "display_name": "modRNN",
   "language": "python",
   "name": "python3"
  },
  "language_info": {
   "codemirror_mode": {
    "name": "ipython",
    "version": 3
   },
   "file_extension": ".py",
   "mimetype": "text/x-python",
   "name": "python",
   "nbconvert_exporter": "python",
   "pygments_lexer": "ipython3",
   "version": "3.12.3"
  }
 },
 "nbformat": 4,
 "nbformat_minor": 2
}
