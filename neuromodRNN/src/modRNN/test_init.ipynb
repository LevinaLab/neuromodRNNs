{
 "cells": [
  {
   "cell_type": "code",
   "execution_count": 2,
   "metadata": {},
   "outputs": [],
   "source": [
    "import spatial_embedings\n",
    "from jax import random, numpy as jnp\n",
    "import extra_initializers\n",
    "from flax.linen import initializers\n",
    "import matplotlib.pyplot as plt\n",
    "import models"
   ]
  },
  {
   "cell_type": "code",
   "execution_count": 4,
   "metadata": {},
   "outputs": [
    {
     "data": {
      "text/plain": [
       "<function jax.nn.initializers.ones(key: 'KeyArray', shape: 'core.Shape', dtype: 'DTypeLikeInexact' = <class 'jax.numpy.float64'>) -> 'Array'>"
      ]
     },
     "execution_count": 4,
     "metadata": {},
     "output_type": "execute_result"
    }
   ],
   "source": [
    "initializers.ones_init()"
   ]
  },
  {
   "cell_type": "code",
   "execution_count": 5,
   "metadata": {},
   "outputs": [
    {
     "data": {
      "text/plain": [
       "(1, 3)"
      ]
     },
     "execution_count": 5,
     "metadata": {},
     "output_type": "execute_result"
    }
   ],
   "source": [
    "error = jnp.array([1,2,3]) #(3,)\n",
    "kernel = jnp.array([[1,2],[1,3],[4,5]]) # (3,2)\n",
    "error.shape"
   ]
  },
  {
   "cell_type": "code",
   "execution_count": 6,
   "metadata": {},
   "outputs": [
    {
     "data": {
      "text/plain": [
       "Array([[15, 23]], dtype=int32)"
      ]
     },
     "execution_count": 6,
     "metadata": {},
     "output_type": "execute_result"
    }
   ],
   "source": [
    "jnp.dot(error, kernel)"
   ]
  },
  {
   "cell_type": "code",
   "execution_count": 7,
   "metadata": {},
   "outputs": [
    {
     "data": {
      "text/plain": [
       "(3, 1, 2)"
      ]
     },
     "execution_count": 7,
     "metadata": {},
     "output_type": "execute_result"
    }
   ],
   "source": []
  },
  {
   "cell_type": "code",
   "execution_count": 5,
   "metadata": {},
   "outputs": [],
   "source": [
    "w = 4\n",
    "h = 3\n",
    "n_cells = 10\n",
    "seed = 1\n",
    "key = random.key(seed)"
   ]
  },
  {
   "cell_type": "code",
   "execution_count": 6,
   "metadata": {},
   "outputs": [
    {
     "data": {
      "text/plain": [
       "Array([[0.        , 0.        ],\n",
       "       [0.25      , 0.        ],\n",
       "       [0.5       , 0.        ],\n",
       "       [0.75      , 0.        ],\n",
       "       [0.        , 0.33333334],\n",
       "       [0.25      , 0.33333334],\n",
       "       [0.5       , 0.33333334],\n",
       "       [0.75      , 0.33333334],\n",
       "       [0.        , 0.6666667 ],\n",
       "       [0.25      , 0.6666667 ],\n",
       "       [0.5       , 0.6666667 ],\n",
       "       [0.75      , 0.6666667 ]], dtype=float32)"
      ]
     },
     "execution_count": 6,
     "metadata": {},
     "output_type": "execute_result"
    }
   ],
   "source": [
    "grid = spatial_embedings.twod_grid(w, h)\n",
    "grid"
   ]
  },
  {
   "cell_type": "code",
   "execution_count": 8,
   "metadata": {},
   "outputs": [
    {
     "data": {
      "text/plain": [
       "Array([[1, 2],\n",
       "       [1, 3],\n",
       "       [2, 2],\n",
       "       [1, 1],\n",
       "       [0, 2],\n",
       "       [2, 0],\n",
       "       [0, 0],\n",
       "       [1, 0],\n",
       "       [0, 3],\n",
       "       [2, 1]], dtype=int32)"
      ]
     },
     "execution_count": 8,
     "metadata": {},
     "output_type": "execute_result"
    }
   ],
   "source": [
    "cells_indices = spatial_embedings.cell_to_twod_grid(w=w, h=h, n_cells=n_cells, key=key)\n",
    "cells_indices"
   ]
  },
  {
   "cell_type": "code",
   "execution_count": null,
   "metadata": {},
   "outputs": [],
   "source": [
    "# convert 2d index coding to 1d\n",
    "row_indices = cells_indices[:, 0]\n",
    "col_indices = cells_indices[:, 1]\n",
    "oned_indices = row_indices * w + col_indices"
   ]
  },
  {
   "cell_type": "code",
   "execution_count": null,
   "metadata": {},
   "outputs": [],
   "source": [
    "# get selected cells in grid\n",
    "selected_cells = grid[oned_indices, :]\n",
    "# Get x and y positions\n",
    "x = selected_cells[:, 0]\n",
    "y = selected_cells[:, 1]\n",
    "cells_indices"
   ]
  },
  {
   "cell_type": "code",
   "execution_count": null,
   "metadata": {},
   "outputs": [],
   "source": [
    "sigma = 0.012\n",
    "\n",
    "M =spatial_embedings.twodMatrix(Pre_x=x, Pre_y=y, Post_x=x, Post_y=y, sigma=sigma, key=key)\n"
   ]
  },
  {
   "cell_type": "code",
   "execution_count": null,
   "metadata": {},
   "outputs": [],
   "source": [
    "plt.imshow(M)"
   ]
  },
  {
   "cell_type": "code",
   "execution_count": null,
   "metadata": {},
   "outputs": [],
   "source": [
    "degree = jnp.mean(M) * n_cells\n",
    "print(degree)"
   ]
  },
  {
   "cell_type": "code",
   "execution_count": null,
   "metadata": {},
   "outputs": [],
   "source": [
    "model = models.LSSN(n_ALIF=50, n_LIF=50, local_connectivity_key=seed, cell_loc_key=seed, sigma = 0.012)"
   ]
  },
  {
   "cell_type": "code",
   "execution_count": null,
   "metadata": {},
   "outputs": [],
   "source": [
    "def get_initial_params(rng, model, input_shape):\n",
    "  \"\"\"Returns randomly initialized parameters, eligibility parameters and connectivity mask.\"\"\"\n",
    "  dummy_x = jnp.ones(input_shape)\n",
    "  variables = model.init(rng, dummy_x)\n",
    "  return variables['params'], variables['eligibility params'], variables[ 'spatial embbeding']"
   ]
  },
  {
   "cell_type": "code",
   "execution_count": null,
   "metadata": {},
   "outputs": [],
   "source": [
    "rng = random.key(seed)\n",
    "input_shape = (40, 10)"
   ]
  },
  {
   "cell_type": "code",
   "execution_count": null,
   "metadata": {},
   "outputs": [],
   "source": [
    "params, eligibility_variables, spatial_embedding = get_initial_params(key, model, input_shape)"
   ]
  },
  {
   "cell_type": "code",
   "execution_count": null,
   "metadata": {},
   "outputs": [],
   "source": [
    "M = spatial_embedding[\"ALIFCell_0\"]['M']"
   ]
  },
  {
   "cell_type": "code",
   "execution_count": null,
   "metadata": {},
   "outputs": [],
   "source": [
    "plt.imshow(M)"
   ]
  },
  {
   "cell_type": "code",
   "execution_count": null,
   "metadata": {},
   "outputs": [],
   "source": [
    "jnp.mean(M) * n_cells"
   ]
  },
  {
   "cell_type": "code",
   "execution_count": null,
   "metadata": {},
   "outputs": [],
   "source": [
    "M.shape"
   ]
  },
  {
   "cell_type": "code",
   "execution_count": null,
   "metadata": {},
   "outputs": [],
   "source": [
    "spatial_embedding[\"ALIFCell_0\"][\"cells_loc\"]"
   ]
  },
  {
   "cell_type": "code",
   "execution_count": null,
   "metadata": {},
   "outputs": [],
   "source": []
  }
 ],
 "metadata": {
  "kernelspec": {
   "display_name": "modRNN",
   "language": "python",
   "name": "python3"
  },
  "language_info": {
   "codemirror_mode": {
    "name": "ipython",
    "version": 3
   },
   "file_extension": ".py",
   "mimetype": "text/x-python",
   "name": "python",
   "nbconvert_exporter": "python",
   "pygments_lexer": "ipython3",
   "version": "3.12.3"
  }
 },
 "nbformat": 4,
 "nbformat_minor": 2
}
