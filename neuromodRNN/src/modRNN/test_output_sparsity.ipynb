{
 "cells": [
  {
   "cell_type": "code",
   "execution_count": null,
   "metadata": {},
   "outputs": [],
   "source": [
    "import jax.numpy as jnp\n",
    "import jax.random as random\n",
    "import extra_initializers\n",
    "import jax"
   ]
  },
  {
   "cell_type": "code",
   "execution_count": null,
   "metadata": {},
   "outputs": [],
   "source": [
    "import jax\n",
    "import jax.numpy as jnp\n",
    "import numpy as np\n",
    "\n",
    "rng = np.random.default_rng(5151513135)\n",
    "# Example: generate a probability distribution with 5 entries\n",
    "# generate random weights\n",
    "weights = rng.uniform(size=5)\n",
    "# normalize weights to sum up to 1\n",
    "weights /= np.sum(weights)\n",
    "\n",
    "print(weights)\n",
    "print(\"Sum:\", np.sum(weights))  # Check that the sum is 1\n"
   ]
  },
  {
   "cell_type": "code",
   "execution_count": null,
   "metadata": {},
   "outputs": [],
   "source": [
    "key = random.PRNGKey(20)\n",
    "n_out = 2\n",
    "n_rec = 100\n"
   ]
  },
  {
   "cell_type": "code",
   "execution_count": null,
   "metadata": {},
   "outputs": [],
   "source": [
    "a = extra_initializers.initialize_sparsity_mask(sparse_connectivity=True, shape=(100,2), key=key, sparsity=0.1,dtype=jnp.float16)"
   ]
  },
  {
   "cell_type": "code",
   "execution_count": null,
   "metadata": {},
   "outputs": [],
   "source": [
    "a().sum()"
   ]
  },
  {
   "cell_type": "code",
   "execution_count": null,
   "metadata": {},
   "outputs": [],
   "source": [
    "import jax.numpy as jnp\n",
    "\n",
    "# Sample sparse array and mask\n",
    "sparse_array = jnp.array([[0, 3, 0], [0, 0, 2], [4, 0, 0]])\n",
    "mask = jnp.array([[0, 1, 0], [0, 0, 1], [1, 0, 0]])\n",
    "\n",
    "# Use jnp.where to get indices of non-zero elements in the mask\n",
    "indices = jnp.where(mask == 1)\n",
    "\n",
    "# Use the indices to access the corresponding non-zero elements of the sparse array\n",
    "non_zero_elements = sparse_array[indices]\n",
    "\n",
    "print(\"Non-zero elements:\", non_zero_elements)\n"
   ]
  },
  {
   "cell_type": "markdown",
   "metadata": {},
   "source": []
  }
 ],
 "metadata": {
  "kernelspec": {
   "display_name": "modRNN",
   "language": "python",
   "name": "python3"
  },
  "language_info": {
   "codemirror_mode": {
    "name": "ipython",
    "version": 3
   },
   "file_extension": ".py",
   "mimetype": "text/x-python",
   "name": "python",
   "nbconvert_exporter": "python",
   "pygments_lexer": "ipython3",
   "version": "3.12.3"
  }
 },
 "nbformat": 4,
 "nbformat_minor": 2
}
