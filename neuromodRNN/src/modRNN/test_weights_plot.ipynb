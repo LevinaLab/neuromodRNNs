{
 "cells": [
  {
   "cell_type": "code",
   "execution_count": 1,
   "metadata": {},
   "outputs": [],
   "source": [
    "import jax.numpy as jnp\n",
    "import numpy as np"
   ]
  },
  {
   "cell_type": "code",
   "execution_count": 2,
   "metadata": {},
   "outputs": [],
   "source": [
    "neuron_positions = jnp.array([\n",
    "    [1, 2],  # Neuron 0 is at (1, 2) on the grid\n",
    "    [0, 1],  # Neuron 1 is at (0, 1)\n",
    "    [2, 0],  # Neuron 2 is at (2, 0)\n",
    "    # Add more neurons as needed\n",
    "])\n",
    "\n",
    "# Sorting the neurons based on their spatial positions (e.g., by rows first, then columns)\n",
    "# This is a basic lexicographic sort by (row, col)\n",
    "sorted_indices = jnp.lexsort((neuron_positions[:, 1], neuron_positions[:, 0])) # sort by row, then column \n"
   ]
  },
  {
   "cell_type": "code",
   "execution_count": 3,
   "metadata": {},
   "outputs": [
    {
     "data": {
      "text/plain": [
       "Array([1, 0, 2], dtype=int32)"
      ]
     },
     "execution_count": 3,
     "metadata": {},
     "output_type": "execute_result"
    }
   ],
   "source": [
    "sorted_indices"
   ]
  },
  {
   "cell_type": "code",
   "execution_count": 4,
   "metadata": {},
   "outputs": [
    {
     "data": {
      "text/plain": [
       "Array([[0, 1],\n",
       "       [1, 2],\n",
       "       [2, 0]], dtype=int32)"
      ]
     },
     "execution_count": 4,
     "metadata": {},
     "output_type": "execute_result"
    }
   ],
   "source": [
    "neuron_positions[sorted_indices]"
   ]
  },
  {
   "cell_type": "code",
   "execution_count": 16,
   "metadata": {},
   "outputs": [
    {
     "data": {
      "text/plain": [
       "Array([[ 1, 50, 25],\n",
       "       [ 2,  3,  4],\n",
       "       [ 3,  4,  5]], dtype=int32)"
      ]
     },
     "execution_count": 16,
     "metadata": {},
     "output_type": "execute_result"
    }
   ],
   "source": [
    "input_weights = jnp.array([[1,50,25], [2,3,4], [3,4,5]])\n",
    "input_weights"
   ]
  },
  {
   "cell_type": "code",
   "execution_count": 20,
   "metadata": {},
   "outputs": [
    {
     "data": {
      "text/plain": [
       "Array([[ 3,  2,  4],\n",
       "       [50,  1, 25],\n",
       "       [ 4,  3,  5]], dtype=int32)"
      ]
     },
     "execution_count": 20,
     "metadata": {},
     "output_type": "execute_result"
    }
   ],
   "source": [
    "a = input_weights[:, sorted_indices]\n",
    "b = a[sorted_indices, :]\n",
    "b"
   ]
  },
  {
   "cell_type": "code",
   "execution_count": 21,
   "metadata": {},
   "outputs": [
    {
     "data": {
      "text/plain": [
       "Array([[ 3,  2,  4],\n",
       "       [50,  1, 25],\n",
       "       [ 4,  3,  5]], dtype=int32)"
      ]
     },
     "execution_count": 21,
     "metadata": {},
     "output_type": "execute_result"
    }
   ],
   "source": [
    "input_weights[jnp.ix_(sorted_indices, sorted_indices)]"
   ]
  },
  {
   "cell_type": "code",
   "execution_count": 13,
   "metadata": {},
   "outputs": [
    {
     "data": {
      "image/png": "[encoded data removed]",
      "text/plain": [
       "<Figure size 600x600 with 2 Axes>"
      ]
     },
     "metadata": {},
     "output_type": "display_data"
    }
   ],
   "source": [
    "import jax.numpy as jnp\n",
    "import matplotlib.pyplot as plt\n",
    "import jax\n",
    "\n",
    "# Example neuron positions on a grid (N, 2), with each row being a neuron position (row, col)\n",
    "neuron_positions = jnp.array([\n",
    "    [1, 2],  # Neuron 0 is at (1, 2) on the grid\n",
    "    [0, 1],  # Neuron 1 is at (0, 1)\n",
    "    [2, 0],  # Neuron 2 is at (2, 0)\n",
    "    # Add more neurons as needed\n",
    "])\n",
    "\n",
    "# Example weights array with shape (n_rec, 1), assuming these are the recurrent weights\n",
    "# (using a single column for the weight values)\n",
    "weights = jnp.array([\n",
    "    [0.5],   # Weight corresponding to Neuron 0\n",
    "    [0.7],   # Weight corresponding to Neuron 1\n",
    "    [0.3],   # Weight corresponding to Neuron 2\n",
    "    # Add more weights as needed\n",
    "])\n",
    "\n",
    "# Flatten weights to a 1D array for easier indexing\n",
    "weights_flat = weights.flatten()\n",
    "\n",
    "# Determine the size of the grid based on the max neuron positions\n",
    "grid_size = (jnp.max(neuron_positions[:, 0]) + 1, jnp.max(neuron_positions[:, 1]) + 1)\n",
    "\n",
    "# Create a 2D grid initialized with NaNs or zeros (depends on your preference)\n",
    "grid = jnp.full(grid_size, jnp.nan)\n",
    "\n",
    "# Populate the grid with weights using the neuron positions\n",
    "grid = grid.at[neuron_positions[:, 0], neuron_positions[:, 1]].set(weights_flat)\n",
    "\n",
    "# Convert to NumPy array for plotting since Matplotlib needs NumPy arrays\n",
    "grid_np = jax.device_get(grid)\n",
    "\n",
    "# Plotting the heatmap\n",
    "plt.figure(figsize=(6, 6))\n",
    "plt.imshow(grid_np, cmap='viridis', interpolation='nearest')\n",
    "plt.colorbar(label='Weight Value')\n",
    "plt.title('Recurrent Weights Heatmap')\n",
    "plt.xlabel('Grid Column')\n",
    "plt.ylabel('Grid Row')\n",
    "plt.show()\n"
   ]
  },
  {
   "cell_type": "code",
   "execution_count": null,
   "metadata": {},
   "outputs": [],
   "source": []
  }
 ],
 "metadata": {
  "kernelspec": {
   "display_name": "modRNN",
   "language": "python",
   "name": "python3"
  },
  "language_info": {
   "codemirror_mode": {
    "name": "ipython",
    "version": 3
   },
   "file_extension": ".py",
   "mimetype": "text/x-python",
   "name": "python",
   "nbconvert_exporter": "python",
   "pygments_lexer": "ipython3",
   "version": "3.12.3"
  }
 },
 "nbformat": 4,
 "nbformat_minor": 2
}
