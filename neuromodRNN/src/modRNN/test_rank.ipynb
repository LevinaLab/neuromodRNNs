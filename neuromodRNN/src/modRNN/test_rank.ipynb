{
 "cells": [
  {
   "cell_type": "code",
   "execution_count": null,
   "metadata": {},
   "outputs": [],
   "source": [
    "import jax.numpy as jnp\n",
    "import matplotlib.pyplot as plt\n",
    "import jax.random as random\n",
    "\n",
    "def compare_effective_ranks(W1, W2):\n",
    "    \"\"\"\n",
    "    Compare the effective ranks of two weight matrices and generate comparison plots.\n",
    "\n",
    "    Args:\n",
    "        W1 (jax.numpy.ndarray): The first weight matrix.\n",
    "        W2 (jax.numpy.ndarray): The second weight matrix.\n",
    "    \"\"\"\n",
    "    \n",
    "    # Step 1: Compute the Eigenvalues for both matrices\n",
    "    eigenvalues_W1 = jnp.linalg.eigvals(W1)\n",
    "    eigenvalues_W2 = jnp.linalg.eigvals(W2)\n",
    "\n",
    "    # Step 2: Calculate the leading eigenvalue and trace for W1\n",
    "    leading_eigenvalue_W1 = jnp.max(jnp.abs(eigenvalues_W1))\n",
    "    trace_W1 = jnp.sum(jnp.abs(eigenvalues_W1))\n",
    "\n",
    "    # Step 3: Calculate the leading eigenvalue and trace for W2\n",
    "    leading_eigenvalue_W2 = jnp.max(jnp.abs(eigenvalues_W2))\n",
    "    trace_W2 = jnp.sum(jnp.abs(eigenvalues_W2))\n",
    "\n",
    "    # Step 4: Calculate the Effective Rank for both matrices\n",
    "    effective_rank_W1 = trace_W1 / (leading_eigenvalue_W1  * jnp.shape(W1)[0])\n",
    "    effective_rank_W2 = trace_W2 / (leading_eigenvalue_W2 * jnp.shape(W2)[0])\n",
    "\n",
    "    # Output the effective ranks\n",
    "    print(f'Effective Rank of W1: {effective_rank_W1}')\n",
    "    print(f'Effective Rank of W2: {effective_rank_W2}')\n",
    "\n",
    "    # Plotting the eigenvalues and effective ranks for comparison\n",
    "    plt.figure(figsize=(14, 6))\n",
    "\n",
    "    # Plot eigenvalues for W1\n",
    "    plt.subplot(1, 3, 1)\n",
    "    plt.plot(jnp.sort(jnp.abs(eigenvalues_W1))[::-1], 'o-', label='Eigenvalues W1')\n",
    "    plt.title('Eigenvalues of W1')\n",
    "    plt.xlabel('Index')\n",
    "    plt.ylabel('Eigenvalue Magnitude')\n",
    "    plt.grid(True)\n",
    "\n",
    "    # Plot eigenvalues for W2\n",
    "    plt.subplot(1, 3, 2)\n",
    "    plt.plot(jnp.sort(jnp.abs(eigenvalues_W2))[::-1], 'o-', label='Eigenvalues W2')\n",
    "    plt.title('Eigenvalues of W2')\n",
    "    plt.xlabel('Index')\n",
    "    plt.ylabel('Eigenvalue Magnitude')\n",
    "    plt.grid(True)\n",
    "\n",
    "    # Plot effective ranks comparison\n",
    "    plt.subplot(1, 3, 3)\n",
    "    plt.bar(['W1', 'W2'], [effective_rank_W1, effective_rank_W2], color=['blue', 'orange'])\n",
    "    plt.title('Effective Rank Comparison')\n",
    "    plt.ylabel('Effective Rank')\n",
    "    plt.grid(True)\n",
    "\n",
    "    plt.tight_layout()\n",
    "    plt.show()\n",
    "\n",
    "# Example usage\n",
    "key = random.PRNGKey(0)\n",
    "N = 300\n",
    "g1 = 1.5\n",
    "g2 = 0.5\n",
    "\n",
    "# Generate two random weight matrices\n",
    "W1 = random.normal(key, (N, N)) * (g1 / jnp.sqrt(N))\n",
    "W2 = random.normal(key, (N, N)) * (g2 / jnp.sqrt(N))\n",
    "\n",
    "# Compare their effective ranks\n",
    "compare_effective_ranks(W1, W2)\n"
   ]
  },
  {
   "cell_type": "code",
   "execution_count": 2,
   "metadata": {},
   "outputs": [],
   "source": [
    "import extra_initializers\n",
    "n_rec = 100\n",
    "grid_shape = (10,10)\n",
    "key = random.PRNGKey(2150)\n",
    "sigma = 0.012\n",
    "subkey1, subkey2, subkey3 = random.split(key, 3)"
   ]
  },
  {
   "cell_type": "code",
   "execution_count": null,
   "metadata": {},
   "outputs": [],
   "source": [
    "cells_loc = extra_initializers.initialize_neurons_position(gridshape=grid_shape, key=subkey1, n_rec=n_rec)()\n",
    "cells_loc.shape"
   ]
  },
  {
   "cell_type": "code",
   "execution_count": 4,
   "metadata": {},
   "outputs": [],
   "source": [
    "M =extra_initializers.initialize_connectivity_mask(local_connectivity=True, gridshape=grid_shape,\n",
    "                                                    neuron_indices=cells_loc, key=subkey2,\n",
    "                                                    n_rec=n_rec, sigma=sigma\n",
    ")()"
   ]
  },
  {
   "cell_type": "code",
   "execution_count": 5,
   "metadata": {},
   "outputs": [],
   "source": [
    "from flax.linen import initializers\n",
    "init = initializers.kaiming_normal()\n",
    "W1 = extra_initializers.generalized_initializer(init_fn=init, gain=1.0,\n",
    "                                                 avoid_self_recurrence=True, mask_connectivity=None)(key=subkey3, shape=(n_rec, n_rec))\n",
    "W2 = extra_initializers.generalized_initializer(init_fn=init, gain=1.0,\n",
    "                                                 avoid_self_recurrence=True, mask_connectivity=M)(key=subkey3, shape=(n_rec, n_rec))"
   ]
  },
  {
   "cell_type": "code",
   "execution_count": null,
   "metadata": {},
   "outputs": [],
   "source": [
    "compare_effective_ranks(W1, W2)"
   ]
  },
  {
   "cell_type": "code",
   "execution_count": null,
   "metadata": {},
   "outputs": [],
   "source": [
    "W2"
   ]
  },
  {
   "cell_type": "code",
   "execution_count": null,
   "metadata": {},
   "outputs": [],
   "source": [
    "W1"
   ]
  },
  {
   "cell_type": "code",
   "execution_count": null,
   "metadata": {},
   "outputs": [],
   "source": []
  }
 ],
 "metadata": {
  "kernelspec": {
   "display_name": "modRNN",
   "language": "python",
   "name": "python3"
  },
  "language_info": {
   "codemirror_mode": {
    "name": "ipython",
    "version": 3
   },
   "file_extension": ".py",
   "mimetype": "text/x-python",
   "name": "python",
   "nbconvert_exporter": "python",
   "pygments_lexer": "ipython3",
   "version": "3.12.3"
  }
 },
 "nbformat": 4,
 "nbformat_minor": 2
}
