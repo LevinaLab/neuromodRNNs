{
 "cells": [
  {
   "cell_type": "code",
   "execution_count": 1,
   "metadata": {},
   "outputs": [],
   "source": [
    "from jax import numpy as jnp\n",
    "from optax.losses import softmax_cross_entropy\n",
    "from jax.nn import softmax, log_softmax"
   ]
  },
  {
   "cell_type": "code",
   "execution_count": 2,
   "metadata": {},
   "outputs": [],
   "source": [
    "def safe_cross_entropy_loss(predictions, targets, epsilon=1e-12):\n",
    "    \"\"\"\n",
    "    Computes the cross-entropy loss between predictions and targets.\n",
    "\n",
    "    :param predictions: Array of predicted probabilities, shape (batch_size, num_classes)\n",
    "    :param targets: Array of one-hot encoded target probabilities, shape (batch_size, num_classes)\n",
    "    :param epsilon: Small value to ensure numerical stability (avoid log(0))\n",
    "    :return: Scalar value representing the cross-entropy loss for the batch\n",
    "    \"\"\"\n",
    "    # Clip predictions to avoid log(0) and log(1) errors\n",
    "    predictions = jnp.clip(predictions, epsilon, 1.0 - epsilon)\n",
    "\n",
    "    # Compute the cross-entropy loss\n",
    "    loss = -jnp.sum(targets * jnp.log(predictions), axis=-1)\n",
    "\n",
    "    # Return the mean loss over the batch\n",
    "    return loss"
   ]
  },
  {
   "cell_type": "code",
   "execution_count": 10,
   "metadata": {},
   "outputs": [],
   "source": [
    "def cross_entropy_loss(*, logits, labels):\n",
    "    \"\"\"\n",
    "    Computes the cross-entropy loss between predictions and targets.    \n",
    "    Assumes that y is the softmax normalized output of network and labels are one-hot.\n",
    "    \"\"\"\n",
    "    # normalize logits with log_softmax\n",
    "    y = log_softmax(logits) \n",
    "\n",
    "    # Compute the cross-entropy loss\n",
    "    loss = -jnp.sum(labels * y, axis=-1)\n",
    "\n",
    "    # Return the mean loss over the batch\n",
    "    return loss"
   ]
  },
  {
   "cell_type": "code",
   "execution_count": 4,
   "metadata": {},
   "outputs": [],
   "source": [
    "logits = jnp.array([\n",
    "    [[1.0, -1.0], [2.0, -2.0], [-1.0, 1.0]],  # Batch 1\n",
    "    [[-1.0, 1.0], [100.0,- 2.0], [1.0, -1.0]]    # Batch 2\n",
    "])\n",
    "labels = jnp.array([\n",
    "    [[1.0, 0.0], [0.0, 1.0], [1.0, 0.0]],  # Batch 1\n",
    "    [[0.0, 1.0], [1.0, 0.0], [1.0, 0.0]]   # Batch 2\n",
    "])\n"
   ]
  },
  {
   "cell_type": "code",
   "execution_count": 22,
   "metadata": {},
   "outputs": [
    {
     "data": {
      "text/plain": [
       "Array([[ 0.12692805,  4.01815   ,  2.126928  ],\n",
       "       [ 0.12692805, -0.        ,  0.12692805]], dtype=float32)"
      ]
     },
     "execution_count": 22,
     "metadata": {},
     "output_type": "execute_result"
    }
   ],
   "source": [
    "loss_softmax = softmax_cross_entropy(logits=logits, labels=labels)\n",
    "loss_softmax"
   ]
  },
  {
   "cell_type": "code",
   "execution_count": 11,
   "metadata": {},
   "outputs": [
    {
     "data": {
      "text/plain": [
       "Array([[ 0.12692805,  4.01815   ,  2.126928  ],\n",
       "       [ 0.12692805, -0.        ,  0.12692805]], dtype=float32)"
      ]
     },
     "execution_count": 11,
     "metadata": {},
     "output_type": "execute_result"
    }
   ],
   "source": [
    "loss_cross = cross_entropy_loss(logits=logits, labels=labels)\n",
    "loss_cross"
   ]
  },
  {
   "cell_type": "code",
   "execution_count": 24,
   "metadata": {},
   "outputs": [
    {
     "data": {
      "text/plain": [
       "Array([[[0.880797  , 0.11920292],\n",
       "        [0.98201376, 0.01798621],\n",
       "        [0.11920292, 0.880797  ]],\n",
       "\n",
       "       [[0.11920292, 0.880797  ],\n",
       "        [1.        , 0.        ],\n",
       "        [0.880797  , 0.11920292]]], dtype=float32)"
      ]
     },
     "execution_count": 24,
     "metadata": {},
     "output_type": "execute_result"
    }
   ],
   "source": [
    "y = softmax(logits)\n",
    "y"
   ]
  },
  {
   "cell_type": "code",
   "execution_count": 25,
   "metadata": {},
   "outputs": [
    {
     "data": {
      "text/plain": [
       "Array([[ 0.12692808,  4.01815   ,  2.126928  ],\n",
       "       [ 0.12692808, -0.        ,  0.12692808]], dtype=float32)"
      ]
     },
     "execution_count": 25,
     "metadata": {},
     "output_type": "execute_result"
    }
   ],
   "source": [
    "loss_cross = safe_cross_entropy_loss(predictions=y, targets=labels)\n",
    "loss_cross"
   ]
  },
  {
   "cell_type": "code",
   "execution_count": 1,
   "metadata": {},
   "outputs": [],
   "source": [
    "import tasks\n",
    "eval_batch=  list(tasks.cue_accumulation_task(n_batches=64, batch_size=8))"
   ]
  },
  {
   "cell_type": "code",
   "execution_count": 2,
   "metadata": {},
   "outputs": [],
   "source": [
    "batch = eval_batch[0]"
   ]
  },
  {
   "cell_type": "code",
   "execution_count": 5,
   "metadata": {},
   "outputs": [
    {
     "data": {
      "text/plain": [
       "(8, 2550, 2)"
      ]
     },
     "execution_count": 5,
     "metadata": {},
     "output_type": "execute_result"
    }
   ],
   "source": [
    "batch['label'].shape"
   ]
  },
  {
   "cell_type": "code",
   "execution_count": null,
   "metadata": {},
   "outputs": [],
   "source": []
  }
 ],
 "metadata": {
  "kernelspec": {
   "display_name": "modRNN",
   "language": "python",
   "name": "python3"
  },
  "language_info": {
   "codemirror_mode": {
    "name": "ipython",
    "version": 3
   },
   "file_extension": ".py",
   "mimetype": "text/x-python",
   "name": "python",
   "nbconvert_exporter": "python",
   "pygments_lexer": "ipython3",
   "version": "3.12.3"
  }
 },
 "nbformat": 4,
 "nbformat_minor": 2
}
